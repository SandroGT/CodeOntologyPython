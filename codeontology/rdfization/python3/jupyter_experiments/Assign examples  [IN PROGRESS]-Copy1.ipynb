{
 "cells": [
  {
   "cell_type": "markdown",
   "id": "82a030c2",
   "metadata": {},
   "source": [
    "### Initialization"
   ]
  },
  {
   "cell_type": "markdown",
   "id": "534cfb67",
   "metadata": {},
   "source": [
    "Import of standard and third party libraries."
   ]
  },
  {
   "cell_type": "code",
   "execution_count": 1,
   "id": "2daa8e5e",
   "metadata": {},
   "outputs": [
    {
     "name": "stderr",
     "output_type": "stream",
     "text": [
      "* Owlready2 * Warning: optimized Cython parser module 'owlready2_optimized' is not available, defaulting to slower Python implementation\n"
     ]
    }
   ],
   "source": [
    "from pathlib import Path\n",
    "import sys\n",
    "\n",
    "import astroid\n",
    "import owlready2 as owl"
   ]
  },
  {
   "cell_type": "markdown",
   "id": "88c45cf6",
   "metadata": {},
   "source": [
    "Adding `codeontology` to sys path for its import."
   ]
  },
  {
   "cell_type": "code",
   "execution_count": 2,
   "id": "f0c57a6c",
   "metadata": {},
   "outputs": [],
   "source": [
    "codeontology_path = Path(\"../../../../\").resolve()\n",
    "assert codeontology_path.exists()\n",
    "sys.path.insert(0, str(codeontology_path))"
   ]
  },
  {
   "cell_type": "markdown",
   "id": "4509bba0",
   "metadata": {},
   "source": [
    "Loading the ontology."
   ]
  },
  {
   "cell_type": "code",
   "execution_count": 3,
   "id": "dfe7871d",
   "metadata": {},
   "outputs": [],
   "source": [
    "ontology_path = Path(\"../../../ontology/codeontology.owl\").resolve()\n",
    "assert ontology_path.exists()\n",
    "ontology = owl.get_ontology(str(ontology_path)).load()\n",
    "ontology.base_iri = r\"http://rdf.webofcode.org/woc/\""
   ]
  },
  {
   "cell_type": "markdown",
   "id": "ab554358",
   "metadata": {},
   "source": [
    "### Code sample"
   ]
  },
  {
   "cell_type": "code",
   "execution_count": 4,
   "id": "ef4ff02f",
   "metadata": {},
   "outputs": [],
   "source": [
    "from codeontology.rdfization.python3.extract.transformer import Transformer"
   ]
  },
  {
   "cell_type": "code",
   "execution_count": 5,
   "id": "5e84da69",
   "metadata": {},
   "outputs": [],
   "source": [
    "node = astroid.parse(\"\"\"\n",
    "var = 1\n",
    "var = f(lambda x: x+1, 5+3) * g(var)\n",
    "\"\"\")"
   ]
  },
  {
   "cell_type": "code",
   "execution_count": 6,
   "id": "f1c44f8e",
   "metadata": {},
   "outputs": [],
   "source": [
    "Transformer.visit_to_transform(node)"
   ]
  },
  {
   "cell_type": "code",
   "execution_count": 7,
   "id": "3caea48d",
   "metadata": {},
   "outputs": [],
   "source": [
    "from codeontology.rdfization.python3.extract import extractor\n",
    "from codeontology.rdfization.python3.extract.extractor import Extractor"
   ]
  },
  {
   "cell_type": "code",
   "execution_count": 8,
   "id": "328e0321",
   "metadata": {},
   "outputs": [
    {
     "data": {
      "text/plain": [
       "[<Assign l.2 at 0x1cee60d61c0>, <Assign l.3 at 0x1cee60d6130>]"
      ]
     },
     "execution_count": 8,
     "metadata": {},
     "output_type": "execute_result"
    }
   ],
   "source": [
    "node.body"
   ]
  },
  {
   "cell_type": "code",
   "execution_count": 9,
   "id": "ca671311",
   "metadata": {},
   "outputs": [],
   "source": [
    "extractor.extract_expression(node.body[0])"
   ]
  },
  {
   "cell_type": "code",
   "execution_count": 10,
   "id": "a17d9e72",
   "metadata": {},
   "outputs": [
    {
     "data": {
      "text/plain": [
       "get_ontology(\"http://rdf.webofcode.org/woc/\")"
      ]
     },
     "execution_count": 10,
     "metadata": {},
     "output_type": "execute_result"
    }
   ],
   "source": [
    "ontology"
   ]
  },
  {
   "cell_type": "code",
   "execution_count": 11,
   "id": "6d9f67e3",
   "metadata": {},
   "outputs": [
    {
     "data": {
      "text/plain": [
       "D:\\Coding\\PyCharm\\CodeOntologyPython\\codeontology\\ontology\\codeontology.isSubExpressionOf"
      ]
     },
     "execution_count": 11,
     "metadata": {},
     "output_type": "execute_result"
    }
   ],
   "source": [
    "ontology.hasSubExpression._inverse_property"
   ]
  },
  {
   "cell_type": "code",
   "execution_count": 12,
   "id": "af101de8",
   "metadata": {
    "scrolled": true
   },
   "outputs": [
    {
     "data": {
      "text/plain": [
       "D:\\Coding\\PyCharm\\CodeOntologyPython\\codeontology\\ontology\\codeontology.hasSubExpression"
      ]
     },
     "execution_count": 12,
     "metadata": {},
     "output_type": "execute_result"
    }
   ],
   "source": [
    "ontology.isSubExpressionOf._inverse_property"
   ]
  },
  {
   "cell_type": "code",
   "execution_count": 13,
   "id": "fd080cfb",
   "metadata": {},
   "outputs": [],
   "source": [
    "expr1 = ontology.Expression()\n",
    "expr2 = ontology.Expression()"
   ]
  },
  {
   "cell_type": "code",
   "execution_count": 14,
   "id": "9196fbc7",
   "metadata": {},
   "outputs": [],
   "source": [
    "expr1.hasSubExpression.append(expr2)"
   ]
  },
  {
   "cell_type": "code",
   "execution_count": 15,
   "id": "ba475825",
   "metadata": {},
   "outputs": [
    {
     "data": {
      "text/plain": [
       "D:\\Coding\\PyCharm\\CodeOntologyPython\\codeontology\\ontology\\codeontology.expression2"
      ]
     },
     "execution_count": 15,
     "metadata": {},
     "output_type": "execute_result"
    }
   ],
   "source": [
    "expr2.isSubExpressionOf"
   ]
  },
  {
   "cell_type": "code",
   "execution_count": 16,
   "id": "2c851edd",
   "metadata": {},
   "outputs": [
    {
     "data": {
      "text/plain": [
       "['INDIRECT_get_properties',\n",
       " 'differents',\n",
       " 'generate_default_name',\n",
       " 'get_equivalent_to',\n",
       " 'get_inverse_properties',\n",
       " 'get_iri',\n",
       " 'get_name',\n",
       " 'get_properties',\n",
       " 'hasSubExpression',\n",
       " 'iri',\n",
       " 'is_a',\n",
       " 'is_instance_of',\n",
       " 'name',\n",
       " 'namespace',\n",
       " 'set_equivalent_to',\n",
       " 'set_iri',\n",
       " 'set_name',\n",
       " 'storid']"
      ]
     },
     "execution_count": 16,
     "metadata": {},
     "output_type": "execute_result"
    }
   ],
   "source": [
    "[e for e in dir(expr1) if not e.startswith(\"_\")]"
   ]
  },
  {
   "cell_type": "code",
   "execution_count": 17,
   "id": "e99e6fda",
   "metadata": {},
   "outputs": [
    {
     "data": {
      "text/plain": [
       "['INDIRECT_get_properties',\n",
       " 'differents',\n",
       " 'generate_default_name',\n",
       " 'get_equivalent_to',\n",
       " 'get_inverse_properties',\n",
       " 'get_iri',\n",
       " 'get_name',\n",
       " 'get_properties',\n",
       " 'iri',\n",
       " 'isSubExpressionOf',\n",
       " 'is_a',\n",
       " 'is_instance_of',\n",
       " 'name',\n",
       " 'namespace',\n",
       " 'set_equivalent_to',\n",
       " 'set_iri',\n",
       " 'set_name',\n",
       " 'storid']"
      ]
     },
     "execution_count": 17,
     "metadata": {},
     "output_type": "execute_result"
    }
   ],
   "source": [
    "[e for e in dir(expr2) if not e.startswith(\"_\")]"
   ]
  },
  {
   "cell_type": "code",
   "execution_count": 18,
   "id": "963fe43c",
   "metadata": {},
   "outputs": [
    {
     "data": {
      "text/plain": [
       "True"
      ]
     },
     "execution_count": 18,
     "metadata": {},
     "output_type": "execute_result"
    }
   ],
   "source": [
    "\"O\" == \"O\""
   ]
  },
  {
   "cell_type": "code",
   "execution_count": null,
   "id": "1ecf3609",
   "metadata": {},
   "outputs": [],
   "source": []
  }
 ],
 "metadata": {
  "kernelspec": {
   "display_name": "Python 3 (ipykernel)",
   "language": "python",
   "name": "python3"
  },
  "language_info": {
   "codemirror_mode": {
    "name": "ipython",
    "version": 3
   },
   "file_extension": ".py",
   "mimetype": "text/x-python",
   "name": "python",
   "nbconvert_exporter": "python",
   "pygments_lexer": "ipython3",
   "version": "3.9.7"
  }
 },
 "nbformat": 4,
 "nbformat_minor": 5
}
