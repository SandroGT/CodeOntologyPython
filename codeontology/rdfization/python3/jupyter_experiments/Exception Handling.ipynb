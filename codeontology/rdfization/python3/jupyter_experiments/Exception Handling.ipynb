{
 "cells": [
  {
   "cell_type": "markdown",
   "id": "82a030c2",
   "metadata": {},
   "source": [
    "### Initialization"
   ]
  },
  {
   "cell_type": "markdown",
   "id": "534cfb67",
   "metadata": {},
   "source": [
    "Import of standard and third party libraries."
   ]
  },
  {
   "cell_type": "code",
   "execution_count": 1,
   "id": "2daa8e5e",
   "metadata": {},
   "outputs": [
    {
     "name": "stderr",
     "output_type": "stream",
     "text": [
      "* Owlready2 * Warning: optimized Cython parser module 'owlready2_optimized' is not available, defaulting to slower Python implementation\n"
     ]
    }
   ],
   "source": [
    "from pathlib import Path\n",
    "import sys\n",
    "\n",
    "import astroid\n",
    "import owlready2 as owl"
   ]
  },
  {
   "cell_type": "markdown",
   "id": "88c45cf6",
   "metadata": {},
   "source": [
    "Adding `codeontology` to sys path for its import."
   ]
  },
  {
   "cell_type": "code",
   "execution_count": 2,
   "id": "f0c57a6c",
   "metadata": {},
   "outputs": [],
   "source": [
    "codeontology_path = Path(\"../../../../\").resolve()\n",
    "assert codeontology_path.exists()\n",
    "sys.path.insert(0, str(codeontology_path))"
   ]
  },
  {
   "cell_type": "markdown",
   "id": "4509bba0",
   "metadata": {},
   "source": [
    "Loading the ontology."
   ]
  },
  {
   "cell_type": "code",
   "execution_count": 3,
   "id": "dfe7871d",
   "metadata": {},
   "outputs": [],
   "source": [
    "ontology_path = Path(\"../../../ontology/codeontology.owl\").resolve()\n",
    "assert ontology_path.exists()\n",
    "ontology = owl.get_ontology(str(ontology_path)).load()\n",
    "ontology.base_iri = r\"http://rdf.webofcode.org/woc/\""
   ]
  },
  {
   "cell_type": "markdown",
   "id": "ab554358",
   "metadata": {},
   "source": [
    "### Code sample"
   ]
  },
  {
   "cell_type": "code",
   "execution_count": 4,
   "id": "5e960ca8",
   "metadata": {},
   "outputs": [],
   "source": [
    "ast = astroid.parse(\"\"\"\n",
    "import os\n",
    "\n",
    "try:\n",
    "    a = 0\n",
    "    pass\n",
    "except ValueError as ve:\n",
    "    b = 1\n",
    "    pass\n",
    "except Exception as ge:\n",
    "    c = 2\n",
    "    pass\n",
    "finally:\n",
    "    d = 3\n",
    "    pass\n",
    "    \n",
    "os.exit(0)            \n",
    "\"\"\")"
   ]
  },
  {
   "cell_type": "markdown",
   "id": "722514b4",
   "metadata": {},
   "source": [
    "### Go on"
   ]
  },
  {
   "cell_type": "code",
   "execution_count": 6,
   "id": "3b24e935",
   "metadata": {},
   "outputs": [],
   "source": [
    "from codeontology.rdfization.python3.extract.transformer import Transformer"
   ]
  },
  {
   "cell_type": "code",
   "execution_count": null,
   "id": "93bf3161",
   "metadata": {},
   "outputs": [],
   "source": []
  },
  {
   "cell_type": "code",
   "execution_count": 7,
   "id": "50d30964",
   "metadata": {},
   "outputs": [
    {
     "data": {
      "text/plain": [
       "<TryFinally l.4 at 0x29630c687f0>"
      ]
     },
     "execution_count": 7,
     "metadata": {},
     "output_type": "execute_result"
    }
   ],
   "source": [
    "try_finally = ast.body[1]\n",
    "finally_body = try_finally.finalbody\n",
    "try_finally"
   ]
  },
  {
   "cell_type": "code",
   "execution_count": 8,
   "id": "a3e39a0f",
   "metadata": {},
   "outputs": [
    {
     "data": {
      "text/plain": [
       "<TryExcept l.4 at 0x29630c68880>"
      ]
     },
     "execution_count": 8,
     "metadata": {},
     "output_type": "execute_result"
    }
   ],
   "source": [
    "try_except = try_finally.body[0]\n",
    "try_except"
   ]
  },
  {
   "cell_type": "code",
   "execution_count": 9,
   "id": "ac269b57",
   "metadata": {},
   "outputs": [
    {
     "data": {
      "text/plain": [
       "<Import l.2 at 0x29630c68460>"
      ]
     },
     "execution_count": 9,
     "metadata": {},
     "output_type": "execute_result"
    }
   ],
   "source": [
    "try_finally.previous_sibling()"
   ]
  },
  {
   "cell_type": "code",
   "execution_count": 10,
   "id": "ce24af77",
   "metadata": {},
   "outputs": [],
   "source": [
    "try_except.next_sibling()"
   ]
  },
  {
   "cell_type": "code",
   "execution_count": null,
   "id": "0f7c5ddf",
   "metadata": {},
   "outputs": [],
   "source": []
  },
  {
   "cell_type": "code",
   "execution_count": 11,
   "id": "691bfdc2",
   "metadata": {},
   "outputs": [
    {
     "data": {
      "text/plain": [
       "[<ExceptHandler l.7 at 0x29630c68670>, <ExceptHandler l.10 at 0x29630c685e0>]"
      ]
     },
     "execution_count": 11,
     "metadata": {},
     "output_type": "execute_result"
    }
   ],
   "source": [
    "except_handlers = try_except.handlers\n",
    "except_handlers"
   ]
  },
  {
   "cell_type": "code",
   "execution_count": 12,
   "id": "4a0a6a9e",
   "metadata": {},
   "outputs": [
    {
     "name": "stdout",
     "output_type": "stream",
     "text": [
      "None\n",
      "ExceptHandler(type=<Name.ValueError l.7 at 0x29630c68640>,\n",
      "              name=<AssignName.ve l.7 at 0x29630c68610>,\n",
      "              body=[<Assign l.8 at 0x29630c68550>, <Pass l.9 at 0x29630c68580>])\n"
     ]
    }
   ],
   "source": [
    "for eh in except_handlers:\n",
    "    print(eh.previous_sibling())"
   ]
  },
  {
   "cell_type": "code",
   "execution_count": null,
   "id": "f2f32c14",
   "metadata": {},
   "outputs": [],
   "source": []
  },
  {
   "cell_type": "code",
   "execution_count": 13,
   "id": "2542d0d5",
   "metadata": {},
   "outputs": [
    {
     "ename": "SyntaxError",
     "evalue": "unexpected EOF while parsing (3575868896.py, line 2)",
     "output_type": "error",
     "traceback": [
      "\u001b[1;36m  Cell \u001b[1;32mIn[13], line 2\u001b[1;36m\u001b[0m\n\u001b[1;33m    pass\u001b[0m\n\u001b[1;37m        ^\u001b[0m\n\u001b[1;31mSyntaxError\u001b[0m\u001b[1;31m:\u001b[0m unexpected EOF while parsing\n"
     ]
    }
   ],
   "source": [
    "try:\n",
    "    pass"
   ]
  },
  {
   "cell_type": "code",
   "execution_count": 71,
   "id": "f3163f0b",
   "metadata": {},
   "outputs": [],
   "source": [
    "ast_2 = astroid.parse(\"\"\"\n",
    "import os\n",
    "\n",
    "try:\n",
    "    a = 0\n",
    "    b = 1\n",
    "    c = 2\n",
    "except ValueError as ve:\n",
    "    d = 3\n",
    "except:\n",
    "    e = 4\n",
    "\n",
    "os.exit(0)\n",
    "\"\"\")"
   ]
  },
  {
   "cell_type": "code",
   "execution_count": 74,
   "id": "48a97bea",
   "metadata": {},
   "outputs": [
    {
     "data": {
      "text/plain": [
       "[<Assign l.5 at 0x296330e52e0>,\n",
       " <Assign l.6 at 0x296330e5250>,\n",
       " <Assign l.7 at 0x296330e51c0>]"
      ]
     },
     "execution_count": 74,
     "metadata": {},
     "output_type": "execute_result"
    }
   ],
   "source": [
    "ast_2.body[1].body"
   ]
  },
  {
   "cell_type": "code",
   "execution_count": null,
   "id": "40f38afa",
   "metadata": {},
   "outputs": [],
   "source": []
  },
  {
   "cell_type": "code",
   "execution_count": null,
   "id": "53c550df",
   "metadata": {},
   "outputs": [],
   "source": []
  },
  {
   "cell_type": "code",
   "execution_count": null,
   "id": "714fe753",
   "metadata": {},
   "outputs": [],
   "source": []
  },
  {
   "cell_type": "code",
   "execution_count": 35,
   "id": "0229e705",
   "metadata": {},
   "outputs": [],
   "source": [
    "ast_2 = astroid.parse(\"\"\"\n",
    "import os\n",
    "\n",
    "try:\n",
    "    try:\n",
    "        a = 0\n",
    "    except:\n",
    "        b = 1\n",
    "finally:\n",
    "    c = 2\n",
    "    \n",
    "os.exit(0)\n",
    "\"\"\")"
   ]
  },
  {
   "cell_type": "code",
   "execution_count": 40,
   "id": "681f41e1",
   "metadata": {},
   "outputs": [
    {
     "data": {
      "text/plain": [
       "<TryFinally l.4 at 0x2962d11d1c0>"
      ]
     },
     "execution_count": 40,
     "metadata": {},
     "output_type": "execute_result"
    }
   ],
   "source": [
    "ast_2.body[1]"
   ]
  },
  {
   "cell_type": "code",
   "execution_count": 56,
   "id": "e3525711",
   "metadata": {},
   "outputs": [
    {
     "data": {
      "text/plain": [
       "[<TryExcept l.4 at 0x29632ebdf10>]"
      ]
     },
     "execution_count": 56,
     "metadata": {},
     "output_type": "execute_result"
    }
   ],
   "source": [
    "ast_2.body[1].body"
   ]
  },
  {
   "cell_type": "code",
   "execution_count": 54,
   "id": "75e872ca",
   "metadata": {},
   "outputs": [
    {
     "data": {
      "text/plain": [
       "9"
      ]
     },
     "execution_count": 54,
     "metadata": {},
     "output_type": "execute_result"
    }
   ],
   "source": [
    "list(ast_2.body[1].get_children())[1].lineno"
   ]
  },
  {
   "cell_type": "code",
   "execution_count": 28,
   "id": "0d4c557c",
   "metadata": {},
   "outputs": [
    {
     "name": "stdout",
     "output_type": "stream",
     "text": [
      "import os\n",
      "try:\n",
      "    try:\n",
      "        a = 0\n",
      "    except:\n",
      "        b = 1\n",
      "finally:\n",
      "    c = 2\n",
      "os.exit(0)\n",
      "\n",
      "\n"
     ]
    }
   ],
   "source": [
    "print(ast_2.as_string())"
   ]
  },
  {
   "cell_type": "code",
   "execution_count": null,
   "id": "35a75824",
   "metadata": {},
   "outputs": [],
   "source": [
    "ast_2.body[1].lineno"
   ]
  },
  {
   "cell_type": "code",
   "execution_count": 55,
   "id": "37dd8282",
   "metadata": {},
   "outputs": [
    {
     "data": {
      "text/plain": [
       "[<Assign l.9 at 0x29632ebdeb0>]"
      ]
     },
     "execution_count": 55,
     "metadata": {},
     "output_type": "execute_result"
    }
   ],
   "source": [
    "ast_2.body[1].finalbody"
   ]
  },
  {
   "cell_type": "code",
   "execution_count": null,
   "id": "42cc530c",
   "metadata": {},
   "outputs": [],
   "source": []
  }
 ],
 "metadata": {
  "kernelspec": {
   "display_name": "Python 3 (ipykernel)",
   "language": "python",
   "name": "python3"
  },
  "language_info": {
   "codemirror_mode": {
    "name": "ipython",
    "version": 3
   },
   "file_extension": ".py",
   "mimetype": "text/x-python",
   "name": "python",
   "nbconvert_exporter": "python",
   "pygments_lexer": "ipython3",
   "version": "3.9.7"
  }
 },
 "nbformat": 4,
 "nbformat_minor": 5
}
