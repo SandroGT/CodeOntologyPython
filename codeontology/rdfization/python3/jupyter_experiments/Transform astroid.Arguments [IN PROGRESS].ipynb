{
 "cells": [
  {
   "cell_type": "markdown",
   "id": "82a030c2",
   "metadata": {},
   "source": [
    "### Initialization"
   ]
  },
  {
   "cell_type": "markdown",
   "id": "534cfb67",
   "metadata": {},
   "source": [
    "Import of standard and third party libraries."
   ]
  },
  {
   "cell_type": "code",
   "execution_count": 1,
   "id": "2daa8e5e",
   "metadata": {},
   "outputs": [
    {
     "name": "stderr",
     "output_type": "stream",
     "text": [
      "* Owlready2 * Warning: optimized Cython parser module 'owlready2_optimized' is not available, defaulting to slower Python implementation\n"
     ]
    }
   ],
   "source": [
    "from pathlib import Path\n",
    "import sys\n",
    "\n",
    "import astroid\n",
    "import owlready2 as owl"
   ]
  },
  {
   "cell_type": "markdown",
   "id": "88c45cf6",
   "metadata": {},
   "source": [
    "Adding `codeontology` to sys path for its import."
   ]
  },
  {
   "cell_type": "code",
   "execution_count": 2,
   "id": "f0c57a6c",
   "metadata": {},
   "outputs": [],
   "source": [
    "codeontology_path = Path(\"../../../../\").resolve()\n",
    "assert codeontology_path.exists()\n",
    "sys.path.insert(0, str(codeontology_path))"
   ]
  },
  {
   "cell_type": "markdown",
   "id": "4509bba0",
   "metadata": {},
   "source": [
    "Loading the ontology."
   ]
  },
  {
   "cell_type": "code",
   "execution_count": 3,
   "id": "dfe7871d",
   "metadata": {},
   "outputs": [],
   "source": [
    "ontology_path = Path(\"../../../ontology/codeontology.owl\").resolve()\n",
    "assert ontology_path.exists()\n",
    "ontology = owl.get_ontology(str(ontology_path)).load()\n",
    "ontology.base_iri = r\"http://rdf.webofcode.org/woc/\""
   ]
  },
  {
   "cell_type": "markdown",
   "id": "304da48c",
   "metadata": {},
   "source": [
    "### Code sample"
   ]
  },
  {
   "cell_type": "code",
   "execution_count": 4,
   "id": "a0987733",
   "metadata": {},
   "outputs": [],
   "source": [
    "node = astroid.extract_node(\"\"\"\n",
    "def g(\n",
    "    pos_only_1: 'list[int]' = 1,\n",
    "    /,\n",
    "    normal_1: 'ann_normal_1' = 'def_normal_1',\n",
    "    *var_args: 'ann_var_args',\n",
    "    kw_only_1: 'ann_kw_only_1' = 'def_kw_only_1',\n",
    "    **kw_args: 'ann_kw_args'\n",
    "):\n",
    "    pass\n",
    "\"\"\")\n",
    "args_node = node.args"
   ]
  },
  {
   "cell_type": "markdown",
   "id": "722514b4",
   "metadata": {},
   "source": [
    "### Planning the transformation"
   ]
  },
  {
   "cell_type": "code",
   "execution_count": 16,
   "id": "50d30964",
   "metadata": {},
   "outputs": [
    {
     "name": "stdout",
     "output_type": "stream",
     "text": [
      "[<Const.str l.5 at 0x21469e62f40>]\n",
      "[<Const.str l.7 at 0x21469e62e50>]\n",
      "\n",
      "[<AssignName.pos_only_1 l.3 at 0x21469e62af0>]\n",
      "[<Const.str l.3 at 0x21469e62c70>]\n",
      "\n",
      "[<AssignName.normal_1 l.5 at 0x21469e62c10>]\n",
      "[<Const.str l.5 at 0x21469e62eb0>]\n",
      "\n",
      "['var_args']\n",
      "[<Const.str l.6 at 0x21469e62bb0>]\n",
      "\n",
      "[<AssignName.kw_only_1 l.7 at 0x21469e62df0>]\n",
      "[<Const.str l.7 at 0x21469e628b0>]\n",
      "\n",
      "['kw_args']\n",
      "[<Const.str l.8 at 0x21469e62cd0>]\n",
      "\n"
     ]
    }
   ],
   "source": [
    "assert type(args_node) is astroid.Arguments\n",
    "from codeontology.rdfization.python3.extract.transformer.tracking import resolve_annotation\n",
    "\n",
    "parent_function_node = args_node.parent\n",
    "assert type(parent_function_node) in [astroid.FunctionDef, astroid.AsyncFunctionDef]\n",
    "\n",
    "# Parameters field in the `args_node` ordered by position in the signature\n",
    "args_fields = [\n",
    "    # arg_field_name, ann_field_name,            is_positional, is_list, is_var_arg\n",
    "    (\"posonlyargs\",   \"posonlyargs_annotations\", True,          True,    False,),\n",
    "    (\"args\",          \"annotations\",             True,          True,    False,),\n",
    "    (\"vararg\",        \"varargannotation\",        True,          False,   True,),\n",
    "    (\"kwonlyargs\",    \"kwonlyargs_annotations\",  False,         True,    False,),\n",
    "    (\"kwarg\",         \"kwargannotation\",         False,         False,   True,),\n",
    "]\n",
    "\n",
    "# Read all the parameters and accumulate them\n",
    "parameters = []\n",
    "pos = 0\n",
    "is_var_args = False\n",
    "\n",
    "print(args_node.defaults)\n",
    "print(args_node.kw_defaults)\n",
    "print()\n",
    "\n",
    "for arg_field_name, ann_field_name, is_positional, is_list, is_var_arg in args_fields:\n",
    "    arg_field = getattr(args_node, arg_field_name)\n",
    "    ann_field = getattr(args_node, ann_field_name)\n",
    "    if not is_list:\n",
    "        arg_field = [arg_field] if arg_field is not None else []\n",
    "        ann_field = [ann_field] if ann_field is not None else []\n",
    "        \n",
    "    print(arg_field)\n",
    "    print(ann_field)\n",
    "    print()"
   ]
  },
  {
   "cell_type": "code",
   "execution_count": 46,
   "id": "94d94214",
   "metadata": {
    "scrolled": true
   },
   "outputs": [
    {
     "data": {
      "text/plain": [
       "<Name.a l.1 at 0x21469ed0100>"
      ]
     },
     "execution_count": 46,
     "metadata": {},
     "output_type": "execute_result"
    }
   ],
   "source": [
    "astroid.extract_node(\"a\")"
   ]
  },
  {
   "cell_type": "code",
   "execution_count": 5,
   "id": "bd559b03",
   "metadata": {},
   "outputs": [],
   "source": [
    "from codeontology.rdfization.python3.extract.transformer import Transformer"
   ]
  },
  {
   "cell_type": "code",
   "execution_count": 6,
   "id": "b272ea45",
   "metadata": {},
   "outputs": [],
   "source": [
    "Transformer.visit_to_transform(node)"
   ]
  },
  {
   "cell_type": "code",
   "execution_count": 7,
   "id": "64f9760f",
   "metadata": {},
   "outputs": [
    {
     "data": {
      "text/plain": [
       "True"
      ]
     },
     "execution_count": 7,
     "metadata": {},
     "output_type": "execute_result"
    }
   ],
   "source": [
    "node.is_var_args"
   ]
  },
  {
   "cell_type": "code",
   "execution_count": 8,
   "id": "c3665424",
   "metadata": {},
   "outputs": [
    {
     "name": "stdout",
     "output_type": "stream",
     "text": [
      "pos_only_1\n",
      "0\n",
      "(<ClassDef.list l.0 at 0x20417816580>, <ClassDef.int l.0 at 0x204177cfb20>)\n",
      "normal_1\n",
      "1\n",
      "ClassDef.str(name='str',\n",
      "             doc=(\"str(object='') -> str\\n\"\n",
      "              'str(bytes_or_buffer[, encoding[, errors]]) -> str\\n'\n",
      "              '\\n'\n",
      "              'Create a new string object from the given object. If '\n",
      "              'encoding or\\n'\n",
      "              'errors is specified, then the object must expose a data '\n",
      "              'buffer\\n'\n",
      "              'that will be decoded using the given encoding and error '\n",
      "              'handler.\\n'\n",
      "              'Otherwise, returns the result of object.__str__() (if '\n",
      "              'defined)\\n'\n",
      "              'or repr(object).\\n'\n",
      "              'encoding defaults to sys.getdefaultencoding().\\n'\n",
      "              \"errors defaults to 'strict'.\"),\n",
      "             is_dataclass=False,\n",
      "             position=None,\n",
      "             decorators=None,\n",
      "             bases=[<Name.object l.0 at 0x20417935940>],\n",
      "             keywords=[],\n",
      "             doc_node=<Const.str l.None at 0x20417935910>,\n",
      "             body=[ <FunctionDef.__add__ l.None at 0x204179359a0>,\n",
      "               <FunctionDef.__contains__ l.None at 0x20417935b20>,\n",
      "               <FunctionDef.__delattr__ l.None at 0x20417935ca0>,\n",
      "               <FunctionDef.__dir__ l.None at 0x20417935e20>,\n",
      "               <FunctionDef.__eq__ l.None at 0x20417935fa0>,\n",
      "               <FunctionDef.__format__ l.None at 0x20417941160>,\n",
      "               <FunctionDef.__ge__ l.None at 0x204179412e0>,\n",
      "               <FunctionDef.__getattribute__ l.None at 0x20417941460>,\n",
      "               <FunctionDef.__getitem__ l.None at 0x204179415e0>,\n",
      "               <FunctionDef.__getnewargs__ l.None at 0x20417941760>,\n",
      "               <FunctionDef.__gt__ l.None at 0x204179418b0>,\n",
      "               <FunctionDef.__hash__ l.None at 0x20417941a30>,\n",
      "               <FunctionDef.__init__ l.None at 0x20417941bb0>,\n",
      "               <EmptyNode.__init_subclass__ l.0 at 0x20417935970>,\n",
      "               <FunctionDef.__iter__ l.None at 0x20417941d60>,\n",
      "               <FunctionDef.__le__ l.None at 0x20417941ee0>,\n",
      "               <FunctionDef.__len__ l.None at 0x2041794b0a0>,\n",
      "               <FunctionDef.__lt__ l.None at 0x2041794b220>,\n",
      "               <FunctionDef.__mod__ l.None at 0x2041794b3a0>,\n",
      "               <FunctionDef.__mul__ l.None at 0x2041794b520>,\n",
      "               <FunctionDef.__ne__ l.None at 0x2041794b6a0>,\n",
      "               <FunctionDef.__new__ l.None at 0x2041794b820>,\n",
      "               <FunctionDef.__reduce__ l.None at 0x2041794b9a0>,\n",
      "               <FunctionDef.__reduce_ex__ l.None at 0x2041794bb20>,\n",
      "               <FunctionDef.__repr__ l.None at 0x2041794bca0>,\n",
      "               <FunctionDef.__rmod__ l.None at 0x2041794be20>,\n",
      "               <FunctionDef.__rmul__ l.None at 0x2041794bfa0>,\n",
      "               <FunctionDef.__setattr__ l.None at 0x20417955160>,\n",
      "               <FunctionDef.__sizeof__ l.None at 0x204179552e0>,\n",
      "               <FunctionDef.__str__ l.None at 0x20417955460>,\n",
      "               <FunctionDef.__subclasshook__ l.None at 0x204179555e0>,\n",
      "               <FunctionDef.capitalize l.None at 0x20417955760>,\n",
      "               <FunctionDef.casefold l.None at 0x204179558e0>,\n",
      "               <FunctionDef.center l.None at 0x20417955a60>,\n",
      "               <FunctionDef.count l.None at 0x20417955be0>,\n",
      "               <FunctionDef.encode l.None at 0x20417955d60>,\n",
      "               <FunctionDef.endswith l.None at 0x20417955ee0>,\n",
      "               <FunctionDef.expandtabs l.None at 0x2041795e0a0>,\n",
      "               <FunctionDef.find l.None at 0x2041795e220>,\n",
      "               <FunctionDef.format l.None at 0x2041795e3a0>,\n",
      "               <FunctionDef.format_map l.None at 0x2041795e520>,\n",
      "               <FunctionDef.index l.None at 0x2041795e6a0>,\n",
      "               <FunctionDef.isalnum l.None at 0x2041795e820>,\n",
      "               <FunctionDef.isalpha l.None at 0x2041795e9a0>,\n",
      "               <FunctionDef.isascii l.None at 0x2041795eb20>,\n",
      "               <FunctionDef.isdecimal l.None at 0x2041795eca0>,\n",
      "               <FunctionDef.isdigit l.None at 0x2041795ee20>,\n",
      "               <FunctionDef.isidentifier l.None at 0x2041795efa0>,\n",
      "               <FunctionDef.islower l.None at 0x2041796a160>,\n",
      "               <FunctionDef.isnumeric l.None at 0x2041796a2e0>,\n",
      "               <FunctionDef.isprintable l.None at 0x2041796a460>,\n",
      "               <FunctionDef.isspace l.None at 0x2041796a5e0>,\n",
      "               <FunctionDef.istitle l.None at 0x2041796a760>,\n",
      "               <FunctionDef.isupper l.None at 0x2041796a8e0>,\n",
      "               <FunctionDef.join l.None at 0x2041796aa60>,\n",
      "               <FunctionDef.ljust l.None at 0x2041796abe0>,\n",
      "               <FunctionDef.lower l.None at 0x2041796ad60>,\n",
      "               <FunctionDef.lstrip l.None at 0x2041796aee0>,\n",
      "               <EmptyNode.maketrans l.0 at 0x20417941d30>,\n",
      "               <FunctionDef.partition l.None at 0x204179750d0>,\n",
      "               <FunctionDef.removeprefix l.None at 0x20417975250>,\n",
      "               <FunctionDef.removesuffix l.None at 0x204179753d0>,\n",
      "               <FunctionDef.replace l.None at 0x20417975550>,\n",
      "               <FunctionDef.rfind l.None at 0x204179756d0>,\n",
      "               <FunctionDef.rindex l.None at 0x20417975850>,\n",
      "               <FunctionDef.rjust l.None at 0x204179759d0>,\n",
      "               <FunctionDef.rpartition l.None at 0x20417975b50>,\n",
      "               <FunctionDef.rsplit l.None at 0x20417975cd0>,\n",
      "               <FunctionDef.rstrip l.None at 0x20417975e50>,\n",
      "               <FunctionDef.split l.None at 0x20417975fd0>,\n",
      "               <FunctionDef.splitlines l.None at 0x2041797f190>,\n",
      "               <FunctionDef.startswith l.None at 0x2041797f310>,\n",
      "               <FunctionDef.strip l.None at 0x2041797f490>,\n",
      "               <FunctionDef.swapcase l.None at 0x2041797f610>,\n",
      "               <FunctionDef.title l.None at 0x2041797f790>,\n",
      "               <FunctionDef.translate l.None at 0x2041797f910>,\n",
      "               <FunctionDef.upper l.None at 0x2041797fa90>,\n",
      "               <FunctionDef.zfill l.None at 0x2041797fc10>])\n",
      "var_args\n",
      "None\n",
      "None\n",
      "kw_only_1\n",
      "None\n",
      "ClassDef.str(name='str',\n",
      "             doc=(\"str(object='') -> str\\n\"\n",
      "              'str(bytes_or_buffer[, encoding[, errors]]) -> str\\n'\n",
      "              '\\n'\n",
      "              'Create a new string object from the given object. If '\n",
      "              'encoding or\\n'\n",
      "              'errors is specified, then the object must expose a data '\n",
      "              'buffer\\n'\n",
      "              'that will be decoded using the given encoding and error '\n",
      "              'handler.\\n'\n",
      "              'Otherwise, returns the result of object.__str__() (if '\n",
      "              'defined)\\n'\n",
      "              'or repr(object).\\n'\n",
      "              'encoding defaults to sys.getdefaultencoding().\\n'\n",
      "              \"errors defaults to 'strict'.\"),\n",
      "             is_dataclass=False,\n",
      "             position=None,\n",
      "             decorators=None,\n",
      "             bases=[<Name.object l.0 at 0x20417935940>],\n",
      "             keywords=[],\n",
      "             doc_node=<Const.str l.None at 0x20417935910>,\n",
      "             body=[ <FunctionDef.__add__ l.None at 0x204179359a0>,\n",
      "               <FunctionDef.__contains__ l.None at 0x20417935b20>,\n",
      "               <FunctionDef.__delattr__ l.None at 0x20417935ca0>,\n",
      "               <FunctionDef.__dir__ l.None at 0x20417935e20>,\n",
      "               <FunctionDef.__eq__ l.None at 0x20417935fa0>,\n",
      "               <FunctionDef.__format__ l.None at 0x20417941160>,\n",
      "               <FunctionDef.__ge__ l.None at 0x204179412e0>,\n",
      "               <FunctionDef.__getattribute__ l.None at 0x20417941460>,\n",
      "               <FunctionDef.__getitem__ l.None at 0x204179415e0>,\n",
      "               <FunctionDef.__getnewargs__ l.None at 0x20417941760>,\n",
      "               <FunctionDef.__gt__ l.None at 0x204179418b0>,\n",
      "               <FunctionDef.__hash__ l.None at 0x20417941a30>,\n",
      "               <FunctionDef.__init__ l.None at 0x20417941bb0>,\n",
      "               <EmptyNode.__init_subclass__ l.0 at 0x20417935970>,\n",
      "               <FunctionDef.__iter__ l.None at 0x20417941d60>,\n",
      "               <FunctionDef.__le__ l.None at 0x20417941ee0>,\n",
      "               <FunctionDef.__len__ l.None at 0x2041794b0a0>,\n",
      "               <FunctionDef.__lt__ l.None at 0x2041794b220>,\n",
      "               <FunctionDef.__mod__ l.None at 0x2041794b3a0>,\n",
      "               <FunctionDef.__mul__ l.None at 0x2041794b520>,\n",
      "               <FunctionDef.__ne__ l.None at 0x2041794b6a0>,\n",
      "               <FunctionDef.__new__ l.None at 0x2041794b820>,\n",
      "               <FunctionDef.__reduce__ l.None at 0x2041794b9a0>,\n",
      "               <FunctionDef.__reduce_ex__ l.None at 0x2041794bb20>,\n",
      "               <FunctionDef.__repr__ l.None at 0x2041794bca0>,\n",
      "               <FunctionDef.__rmod__ l.None at 0x2041794be20>,\n",
      "               <FunctionDef.__rmul__ l.None at 0x2041794bfa0>,\n",
      "               <FunctionDef.__setattr__ l.None at 0x20417955160>,\n",
      "               <FunctionDef.__sizeof__ l.None at 0x204179552e0>,\n",
      "               <FunctionDef.__str__ l.None at 0x20417955460>,\n",
      "               <FunctionDef.__subclasshook__ l.None at 0x204179555e0>,\n",
      "               <FunctionDef.capitalize l.None at 0x20417955760>,\n",
      "               <FunctionDef.casefold l.None at 0x204179558e0>,\n",
      "               <FunctionDef.center l.None at 0x20417955a60>,\n",
      "               <FunctionDef.count l.None at 0x20417955be0>,\n",
      "               <FunctionDef.encode l.None at 0x20417955d60>,\n",
      "               <FunctionDef.endswith l.None at 0x20417955ee0>,\n",
      "               <FunctionDef.expandtabs l.None at 0x2041795e0a0>,\n",
      "               <FunctionDef.find l.None at 0x2041795e220>,\n",
      "               <FunctionDef.format l.None at 0x2041795e3a0>,\n",
      "               <FunctionDef.format_map l.None at 0x2041795e520>,\n",
      "               <FunctionDef.index l.None at 0x2041795e6a0>,\n",
      "               <FunctionDef.isalnum l.None at 0x2041795e820>,\n",
      "               <FunctionDef.isalpha l.None at 0x2041795e9a0>,\n",
      "               <FunctionDef.isascii l.None at 0x2041795eb20>,\n",
      "               <FunctionDef.isdecimal l.None at 0x2041795eca0>,\n",
      "               <FunctionDef.isdigit l.None at 0x2041795ee20>,\n",
      "               <FunctionDef.isidentifier l.None at 0x2041795efa0>,\n",
      "               <FunctionDef.islower l.None at 0x2041796a160>,\n",
      "               <FunctionDef.isnumeric l.None at 0x2041796a2e0>,\n",
      "               <FunctionDef.isprintable l.None at 0x2041796a460>,\n",
      "               <FunctionDef.isspace l.None at 0x2041796a5e0>,\n",
      "               <FunctionDef.istitle l.None at 0x2041796a760>,\n",
      "               <FunctionDef.isupper l.None at 0x2041796a8e0>,\n",
      "               <FunctionDef.join l.None at 0x2041796aa60>,\n",
      "               <FunctionDef.ljust l.None at 0x2041796abe0>,\n",
      "               <FunctionDef.lower l.None at 0x2041796ad60>,\n",
      "               <FunctionDef.lstrip l.None at 0x2041796aee0>,\n",
      "               <EmptyNode.maketrans l.0 at 0x20417941d30>,\n",
      "               <FunctionDef.partition l.None at 0x204179750d0>,\n",
      "               <FunctionDef.removeprefix l.None at 0x20417975250>,\n",
      "               <FunctionDef.removesuffix l.None at 0x204179753d0>,\n",
      "               <FunctionDef.replace l.None at 0x20417975550>,\n",
      "               <FunctionDef.rfind l.None at 0x204179756d0>,\n",
      "               <FunctionDef.rindex l.None at 0x20417975850>,\n",
      "               <FunctionDef.rjust l.None at 0x204179759d0>,\n",
      "               <FunctionDef.rpartition l.None at 0x20417975b50>,\n",
      "               <FunctionDef.rsplit l.None at 0x20417975cd0>,\n",
      "               <FunctionDef.rstrip l.None at 0x20417975e50>,\n",
      "               <FunctionDef.split l.None at 0x20417975fd0>,\n",
      "               <FunctionDef.splitlines l.None at 0x2041797f190>,\n",
      "               <FunctionDef.startswith l.None at 0x2041797f310>,\n",
      "               <FunctionDef.strip l.None at 0x2041797f490>,\n",
      "               <FunctionDef.swapcase l.None at 0x2041797f610>,\n",
      "               <FunctionDef.title l.None at 0x2041797f790>,\n",
      "               <FunctionDef.translate l.None at 0x2041797f910>,\n",
      "               <FunctionDef.upper l.None at 0x2041797fa90>,\n",
      "               <FunctionDef.zfill l.None at 0x2041797fc10>])\n",
      "kw_args\n",
      "None\n",
      "None\n"
     ]
    }
   ],
   "source": [
    "for name, pos, type_, description, is_vararg, is_pos_only, is_key_only in args_node.params:\n",
    "    print(name)\n",
    "    print(pos)\n",
    "    print(type_)"
   ]
  },
  {
   "cell_type": "code",
   "execution_count": 9,
   "id": "fa0bf300",
   "metadata": {},
   "outputs": [],
   "source": [
    "node = astroid.extract_node(\"\"\"\n",
    "def g(a: List[str | int]):\n",
    "    pass\n",
    "\"\"\")\n",
    "args_node = node.args"
   ]
  },
  {
   "cell_type": "code",
   "execution_count": 10,
   "id": "c1d7885f",
   "metadata": {},
   "outputs": [],
   "source": [
    "arg = node.args.annotations[0]"
   ]
  },
  {
   "cell_type": "code",
   "execution_count": 11,
   "id": "bca456fc",
   "metadata": {},
   "outputs": [
    {
     "data": {
      "text/plain": [
       "<Subscript l.2 at 0x204151f9220>"
      ]
     },
     "execution_count": 11,
     "metadata": {},
     "output_type": "execute_result"
    }
   ],
   "source": [
    "arg"
   ]
  },
  {
   "cell_type": "code",
   "execution_count": 12,
   "id": "ae1db7db",
   "metadata": {},
   "outputs": [
    {
     "data": {
      "text/plain": [
       "<Subscript l.1 at 0x204151f9730>"
      ]
     },
     "execution_count": 12,
     "metadata": {},
     "output_type": "execute_result"
    }
   ],
   "source": [
    "astroid.extract_node(\"List[str | int]\")"
   ]
  },
  {
   "cell_type": "code",
   "execution_count": 13,
   "id": "e25ab49c",
   "metadata": {},
   "outputs": [
    {
     "data": {
      "text/plain": [
       "<FunctionDef.g l.2 at 0x204151f9430>"
      ]
     },
     "execution_count": 13,
     "metadata": {},
     "output_type": "execute_result"
    }
   ],
   "source": [
    "node.args.parent"
   ]
  },
  {
   "cell_type": "code",
   "execution_count": 14,
   "id": "234968eb",
   "metadata": {},
   "outputs": [],
   "source": [
    "node = astroid.extract_node(\"'a string' + 'b'\")"
   ]
  },
  {
   "cell_type": "code",
   "execution_count": 15,
   "id": "7a4536d5",
   "metadata": {},
   "outputs": [
    {
     "data": {
      "text/plain": [
       "['__annotations__',\n",
       " '__class__',\n",
       " '__delattr__',\n",
       " '__dict__',\n",
       " '__dir__',\n",
       " '__doc__',\n",
       " '__eq__',\n",
       " '__format__',\n",
       " '__ge__',\n",
       " '__getattr__',\n",
       " '__getattribute__',\n",
       " '__gt__',\n",
       " '__hash__',\n",
       " '__init__',\n",
       " '__init_subclass__',\n",
       " '__le__',\n",
       " '__lt__',\n",
       " '__module__',\n",
       " '__ne__',\n",
       " '__new__',\n",
       " '__reduce__',\n",
       " '__reduce_ex__',\n",
       " '__repr__',\n",
       " '__setattr__',\n",
       " '__sizeof__',\n",
       " '__str__',\n",
       " '__subclasshook__',\n",
       " '__weakref__',\n",
       " '_astroid_fields',\n",
       " '_explicit_inference',\n",
       " '_fixed_source_line',\n",
       " '_get_assign_nodes',\n",
       " '_get_name_nodes',\n",
       " '_get_return_nodes_skip_functions',\n",
       " '_get_yield_nodes_skip_lambdas',\n",
       " '_infer',\n",
       " '_infer_name',\n",
       " '_other_fields',\n",
       " '_other_other_fields',\n",
       " '_proxied',\n",
       " '_repr_name',\n",
       " '_wrap_attr',\n",
       " 'accept',\n",
       " 'as_string',\n",
       " 'block_range',\n",
       " 'bool_value',\n",
       " 'callable',\n",
       " 'child_sequence',\n",
       " 'col_offset',\n",
       " 'display_type',\n",
       " 'end_col_offset',\n",
       " 'end_lineno',\n",
       " 'eq',\n",
       " 'frame',\n",
       " 'fromlineno',\n",
       " 'get_children',\n",
       " 'getattr',\n",
       " 'getitem',\n",
       " 'has_base',\n",
       " 'has_dynamic_getattr',\n",
       " 'igetattr',\n",
       " 'infer',\n",
       " 'infer_binary_op',\n",
       " 'infer_call_result',\n",
       " 'infer_unary_op',\n",
       " 'inferred',\n",
       " 'instantiate_class',\n",
       " 'is_function',\n",
       " 'is_lambda',\n",
       " 'is_statement',\n",
       " 'itered',\n",
       " 'kind',\n",
       " 'last_child',\n",
       " 'lineno',\n",
       " 'locate_child',\n",
       " 'next_sibling',\n",
       " 'node_ancestors',\n",
       " 'nodes_of_class',\n",
       " 'op_left_associative',\n",
       " 'op_precedence',\n",
       " 'optional_assign',\n",
       " 'parent',\n",
       " 'parent_of',\n",
       " 'position',\n",
       " 'previous_sibling',\n",
       " 'pytype',\n",
       " 'repr_tree',\n",
       " 'root',\n",
       " 'scope',\n",
       " 'set_local',\n",
       " 'special_attributes',\n",
       " 'statement',\n",
       " 'tolineno',\n",
       " 'value']"
      ]
     },
     "execution_count": 15,
     "metadata": {},
     "output_type": "execute_result"
    }
   ],
   "source": [
    "dir(list(node.get_children())[0])"
   ]
  },
  {
   "cell_type": "code",
   "execution_count": 16,
   "id": "10ce12a2",
   "metadata": {},
   "outputs": [
    {
     "data": {
      "text/plain": [
       "'builtins.str'"
      ]
     },
     "execution_count": 16,
     "metadata": {},
     "output_type": "execute_result"
    }
   ],
   "source": [
    "list(node.get_children())[0].pytype()"
   ]
  },
  {
   "cell_type": "code",
   "execution_count": null,
   "id": "6371bc59",
   "metadata": {},
   "outputs": [],
   "source": []
  }
 ],
 "metadata": {
  "kernelspec": {
   "display_name": "Python 3 (ipykernel)",
   "language": "python",
   "name": "python3"
  },
  "language_info": {
   "codemirror_mode": {
    "name": "ipython",
    "version": 3
   },
   "file_extension": ".py",
   "mimetype": "text/x-python",
   "name": "python",
   "nbconvert_exporter": "python",
   "pygments_lexer": "ipython3",
   "version": "3.9.7"
  }
 },
 "nbformat": 4,
 "nbformat_minor": 5
}
