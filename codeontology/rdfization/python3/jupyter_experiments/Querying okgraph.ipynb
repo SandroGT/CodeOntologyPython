{
 "cells": [
  {
   "cell_type": "markdown",
   "id": "82a030c2",
   "metadata": {},
   "source": [
    "### Initialization"
   ]
  },
  {
   "cell_type": "markdown",
   "id": "534cfb67",
   "metadata": {},
   "source": [
    "Import of standard and third party libraries."
   ]
  },
  {
   "cell_type": "code",
   "execution_count": 1,
   "id": "2daa8e5e",
   "metadata": {},
   "outputs": [
    {
     "name": "stderr",
     "output_type": "stream",
     "text": [
      "* Owlready2 * Warning: optimized Cython parser module 'owlready2_optimized' is not available, defaulting to slower Python implementation\n"
     ]
    }
   ],
   "source": [
    "from pathlib import Path\n",
    "import sys\n",
    "\n",
    "import astroid\n",
    "import owlready2 as owl"
   ]
  },
  {
   "cell_type": "markdown",
   "id": "88c45cf6",
   "metadata": {},
   "source": [
    "Adding `codeontology` to sys path for its import."
   ]
  },
  {
   "cell_type": "code",
   "execution_count": 2,
   "id": "f0c57a6c",
   "metadata": {},
   "outputs": [],
   "source": [
    "codeontology_path = Path(\"../../../../\").resolve()\n",
    "assert codeontology_path.exists()\n",
    "sys.path.insert(0, str(codeontology_path))"
   ]
  },
  {
   "cell_type": "markdown",
   "id": "4509bba0",
   "metadata": {},
   "source": [
    "Loading the ontology."
   ]
  },
  {
   "cell_type": "markdown",
   "id": "722514b4",
   "metadata": {},
   "source": [
    "### RDFization"
   ]
  },
  {
   "cell_type": "markdown",
   "id": "598dd342",
   "metadata": {},
   "source": [
    "We run the extraction on a the locally downlaoded source code of the `okgraph` library."
   ]
  },
  {
   "cell_type": "code",
   "execution_count": null,
   "id": "ed8d684e",
   "metadata": {},
   "outputs": [],
   "source": [
    "from codeontology.__main__ import main\n",
    "main(\"python3 local D:\\Coding\\PyCharm\\okgraph\".split())"
   ]
  },
  {
   "cell_type": "markdown",
   "id": "cf5a5f65",
   "metadata": {},
   "source": [
    "### Query"
   ]
  },
  {
   "cell_type": "markdown",
   "id": "88248072",
   "metadata": {},
   "source": [
    "As said, the triple have been stored! We load them with `owlready2` to make some simple queries."
   ]
  },
  {
   "cell_type": "code",
   "execution_count": 3,
   "id": "c9dd350b",
   "metadata": {},
   "outputs": [],
   "source": [
    "path = Path(r\"C:\\Users\\sandr\\codeontology\\output\\okgraph-0.0.1.nt\")\n",
    "ontology = owl.get_ontology(str(path)).load()"
   ]
  },
  {
   "cell_type": "markdown",
   "id": "187e9898",
   "metadata": {},
   "source": [
    "We use a custom function just to properly format and show the results."
   ]
  },
  {
   "cell_type": "code",
   "execution_count": 4,
   "id": "82142349",
   "metadata": {},
   "outputs": [],
   "source": [
    "from query import do_query_and_show_res"
   ]
  },
  {
   "cell_type": "markdown",
   "id": "804c9e93",
   "metadata": {},
   "source": [
    "#### Packages"
   ]
  },
  {
   "cell_type": "markdown",
   "id": "b544a061",
   "metadata": {},
   "source": [
    "Lets see which `packages` are in `okgraph`:"
   ]
  },
  {
   "cell_type": "code",
   "execution_count": 5,
   "id": "9e10d9f6",
   "metadata": {},
   "outputs": [
    {
     "name": "stdout",
     "output_type": "stream",
     "text": [
      "Results:\n",
      "\n",
      " 1 ('okgraph.core',)\n",
      " 2 ('okgraph.embeddings',)\n",
      " 3 ('okgraph',)\n",
      " 4 ('okgraph.task',)\n",
      " 5 ('okgraph.task.relation_expansion',)\n",
      " 6 ('okgraph.task.relation_expansion.centroid',)\n",
      " 7 ('okgraph.task.relation_expansion.centroid.centroid',)\n",
      " 8 ('okgraph.task.relation_expansion.intersection',)\n",
      " 9 ('okgraph.task.relation_expansion.intersection.intersection',)\n",
      "10 ('okgraph.task.relation_labeling',)\n",
      "11 ('okgraph.task.relation_labeling.intersection',)\n",
      "12 ('okgraph.task.relation_labeling.intersection.intersection',)\n",
      "13 ('okgraph.sliding_windows',)\n",
      "14 ('okgraph.task.set_labeling',)\n",
      "15 ('okgraph.task.set_labeling.intersection',)\n",
      "16 ('okgraph.task.set_labeling.intersection.intersection',)\n",
      "17 ('okgraph.task.set_expansion',)\n",
      "18 ('okgraph.task.set_expansion.depth',)\n",
      "19 ('okgraph.task.set_expansion.depth.depth',)\n",
      "20 ('okgraph.task.set_expansion.centroid_boost',)\n",
      "21 ('okgraph.task.set_expansion.centroid_boost.centroid_boost',)\n",
      "22 ('okgraph.task.set_expansion.centroid',)\n",
      "23 ('okgraph.task.set_expansion.centroid.centroid',)\n",
      "24 ('okgraph.task.set_expansion.fill_mask',)\n",
      "25 ('okgraph.task.set_expansion.fill_mask.fill_mask',)\n",
      "26 ('okgraph.indexing',)\n",
      "27 ('okgraph.utils',)\n",
      "28 ('okgraph.preprocessing',)\n",
      "29 ('okgraph.evaluation',)\n"
     ]
    }
   ],
   "source": [
    "do_query_and_show_res(\"\"\"\n",
    "prefix woc: <http://rdf.webofcode.org/woc/>\n",
    "\n",
    "SELECT DISTINCT ?n_pkg\n",
    "WHERE {\n",
    "    ?lib woc:hasProject ?prj\n",
    "    ?lib woc:hasName \"okgraph\"\n",
    "    ?pkg woc:hasLibrary ?lib\n",
    "    ?pkg woc:hasFullyQualifiedName ?n_pkg\n",
    "}\n",
    "\"\"\", 50);"
   ]
  },
  {
   "cell_type": "code",
   "execution_count": 6,
   "id": "8bc1011a",
   "metadata": {},
   "outputs": [
    {
     "name": "stdout",
     "output_type": "stream",
     "text": [
      "Results:\n",
      "\n",
      " 1 (\n",
      "        okgraph.core\n",
      "        The core module contains the library main functionalities to performs unsupervised natural-language understanding.,\n",
      "   )\n",
      " 2 (\n",
      "        okgraph.embeddings\n",
      "        The 'embeddings' module contains the utilities to work with word embeddings.,\n",
      "   )\n",
      " 3 (\n",
      "        okgraph.sliding_windows\n",
      "        The 'sliding_windows' module contains the utilities to search for semantic similarities between the words in a corpus.,\n",
      "   )\n",
      " 4 (\n",
      "        okgraph.indexing\n",
      "        The 'indexing' module contains the utilities used to organize a corpus in sub-documents and allow faster searches of word occurrences into it.,\n",
      "   )\n",
      " 5 (\n",
      "        okgraph.utils\n",
      "        The 'utils' module contains generic utilities supporting the other modules of the library.,\n",
      "   )\n"
     ]
    }
   ],
   "source": [
    "do_query_and_show_res(\"\"\"\n",
    "prefix woc: <http://rdf.webofcode.org/woc/>\n",
    "\n",
    "SELECT DISTINCT ?n_pkg ?docs\n",
    "WHERE {\n",
    "    ?lib woc:hasProject ?prj\n",
    "    ?lib woc:hasName \"okgraph\"\n",
    "    ?pkg woc:hasLibrary ?lib\n",
    "    ?pkg woc:hasFullyQualifiedName ?n_pkg\n",
    "    ?pkg woc:hasDocumentation ?docs\n",
    "}\n",
    "\"\"\", 50);"
   ]
  },
  {
   "cell_type": "markdown",
   "id": "418ef836",
   "metadata": {},
   "source": [
    "#### Classes"
   ]
  },
  {
   "cell_type": "markdown",
   "id": "97ff603a",
   "metadata": {},
   "source": [
    "Lets see which `classes` are in `okgraph`:"
   ]
  },
  {
   "cell_type": "code",
   "execution_count": 7,
   "id": "a78dad27",
   "metadata": {},
   "outputs": [
    {
     "name": "stdout",
     "output_type": "stream",
     "text": [
      "Results:\n",
      "\n",
      " 1 ('okgraph.core.OKgraph',)\n",
      " 2 ('okgraph.core.NotExistingCorpusException',)\n",
      " 3 ('okgraph.embeddings.WordEmbeddings',)\n",
      " 4 ('okgraph.embeddings.FileConverter',)\n",
      " 5 ('okgraph.embeddings.MagnitudeWordEmbeddings',)\n",
      " 6 ('okgraph.embeddings.NotExistingWordException',)\n",
      " 7 ('okgraph.sliding_windows.SlidingWindows',)\n",
      " 8 ('okgraph.indexing.Indexing',)\n"
     ]
    }
   ],
   "source": [
    "do_query_and_show_res(\"\"\"\n",
    "prefix woc: <http://rdf.webofcode.org/woc/>\n",
    "\n",
    "SELECT DISTINCT ?n_cls\n",
    "WHERE {\n",
    "    ?lib woc:hasProject ?prj\n",
    "    ?lib woc:hasName \"okgraph\"\n",
    "    ?pkg woc:hasLibrary ?lib\n",
    "    ?cls woc:hasPackage ?pkg\n",
    "    ?cls woc:hasFullyQualifiedName ?n_cls\n",
    "}\n",
    "\"\"\", 50);"
   ]
  },
  {
   "cell_type": "code",
   "execution_count": 8,
   "id": "72d32ec2",
   "metadata": {},
   "outputs": [
    {
     "name": "stdout",
     "output_type": "stream",
     "text": [
      "Results:\n",
      "\n",
      " 1 (\n",
      "        okgraph.core.OKgraph\n",
      "        A class used to extract knowledge from unstructured text corpus. This class currently focuses on the following tasks: - **set expansion**: given one or a short set of words, continues this set with a list of other 'same-type' words (`co-hyponyms <https://en.wikipedia.org/wiki/Hyponymy_and_hypernymy#Co-hyponyms>`_); - **relation expansion**: given one or a short set of word pairs, continues this set with a list of pairs having the same implicit relation of the given pairs; - **set labeling**: given one or a short set of words, returns a list of short strings (labels) describing the given set (its type or `hyperonym <https://en.wikipedia.org/wiki/Hyponymy_and_hypernymy>`_); - **relation labeling**: given one or a short set of word pairs, returns a list of short strings (labels) describing the relation in the given set; All the tasks work with plain text corpus (untagged).,\n",
      "   )\n",
      " 2 (\n",
      "        okgraph.core.NotExistingCorpusException\n",
      "        An exception used to represent the error that occur when the specified corpus is not existing.,\n",
      "   )\n",
      " 3 (\n",
      "        okgraph.embeddings.WordEmbeddings\n",
      "        An abstract class representing `word embeddings <https://en.wikipedia.org/wiki/Word_embedding>`_ and their usual operations.,\n",
      "   )\n",
      " 4 (\n",
      "        okgraph.embeddings.FileConverter\n",
      "        A class used to convert text corpus and embeddings to Magnitude models. Text corpus should be plain text without any kind of formatting.,\n",
      "   )\n",
      " 5 (\n",
      "        okgraph.embeddings.MagnitudeWordEmbeddings\n",
      "        A class used to represent word embeddings through the `Magnitude <https://github.com/plasticityai/magnitude/blob/master/README.md>`_ model.,\n",
      "   )\n",
      " 6 (\n",
      "        okgraph.embeddings.NotExistingWordException\n",
      "        An exception used to represent the error that occur when a word is searched in the embeddings but it's not existing.,\n",
      "   )\n",
      " 7 (\n",
      "        okgraph.sliding_windows.SlidingWindows\n",
      "        A class used to inspect the context of the target words. The words that appear close to the target words inside the corpus are the words with similar meaning to the target words (according to the distributional hypothesis) and are going to be referenced as labels. The labels appear in the same context of the target words. The context is represented by windows of text with specified size containing the target words. The size of a text window is measured in 'words'. The text windows are extracted from the corpus and used to identify the labels. The congruence of the labels with the target words is evaluated through a TF-IDF statistic.,\n",
      "   )\n",
      " 8 (\n",
      "        okgraph.indexing.Indexing\n",
      "        A class used to create an index of the corpus. The corpus is divided in sub-documents with a unique ID to identify their content. All the documents are then stored and indexed. Every sub-document (or document) is a text window extracted from the corpus. All the documents have the same specified dimension and adjoining documents are partially overlaid.,\n",
      "   )\n"
     ]
    }
   ],
   "source": [
    "do_query_and_show_res(\"\"\"\n",
    "prefix woc: <http://rdf.webofcode.org/woc/>\n",
    "\n",
    "SELECT DISTINCT ?n_cls ?docs\n",
    "WHERE {\n",
    "    ?lib woc:hasProject ?prj\n",
    "    ?lib woc:hasName \"okgraph\"\n",
    "    ?pkg woc:hasLibrary ?lib\n",
    "    ?cls woc:hasPackage ?pkg\n",
    "    ?cls woc:hasFullyQualifiedName ?n_cls\n",
    "    ?cls woc:hasDocumentation ?docs\n",
    "}\n",
    "\"\"\", 50);"
   ]
  },
  {
   "cell_type": "markdown",
   "id": "4877a68f",
   "metadata": {},
   "source": [
    "#### Class fields"
   ]
  },
  {
   "cell_type": "markdown",
   "id": "f8bc6c93",
   "metadata": {},
   "source": [
    "Lets see some `fields` from one of those `classes`:"
   ]
  },
  {
   "cell_type": "code",
   "execution_count": 50,
   "id": "c1da66f2",
   "metadata": {},
   "outputs": [],
   "source": [
    "class_full_name = \"okgraph.core.OKgraph\""
   ]
  },
  {
   "cell_type": "code",
   "execution_count": 51,
   "id": "f095fbcf",
   "metadata": {},
   "outputs": [
    {
     "name": "stdout",
     "output_type": "stream",
     "text": [
      "Results:\n",
      "\n",
      " 1 ('corpus',)\n",
      " 2 ('embeddings',)\n",
      " 3 ('index',)\n",
      " 4 ('dictionary',)\n"
     ]
    }
   ],
   "source": [
    "do_query_and_show_res(f\"\"\"\n",
    "prefix woc: <http://rdf.webofcode.org/woc/>\n",
    "\n",
    "SELECT DISTINCT ?n_fld\n",
    "WHERE {{\n",
    "    ?cls woc:hasFullyQualifiedName \"{class_full_name}\"\n",
    "    ?fld woc:isFieldOf ?cls\n",
    "    ?fld woc:hasName ?n_fld\n",
    "}}\n",
    "\"\"\", 50);"
   ]
  },
  {
   "cell_type": "code",
   "execution_count": 61,
   "id": "eb89f195",
   "metadata": {},
   "outputs": [
    {
     "name": "stdout",
     "output_type": "stream",
     "text": [
      "Results:\n",
      "\n",
      " 1 ('corpus', 'http://rdf.webofcode.org/woc/class7')\n",
      " 2 ('index', 'http://rdf.webofcode.org/woc/class7')\n",
      " 3 ('dictionary', 'http://rdf.webofcode.org/woc/class7')\n"
     ]
    }
   ],
   "source": [
    "do_query_and_show_res(f\"\"\"\n",
    "prefix woc: <http://rdf.webofcode.org/woc/>\n",
    "\n",
    "SELECT DISTINCT ?n_fld ?type\n",
    "WHERE {{\n",
    "    ?cls woc:hasFullyQualifiedName \"{class_full_name}\"\n",
    "    ?fld woc:isFieldOf ?cls\n",
    "    ?fld woc:hasName ?n_fld\n",
    "    ?fld woc:hasType ?type\n",
    "}}\n",
    "\"\"\", 50);"
   ]
  },
  {
   "cell_type": "code",
   "execution_count": 53,
   "id": "eb8d4c6a",
   "metadata": {},
   "outputs": [
    {
     "name": "stdout",
     "output_type": "stream",
     "text": [
      "Results:\n",
      "\n",
      " 1 ('corpus', 'path of the corpus file.')\n",
      " 2 ('embeddings', 'words embeddings (vector model).')\n",
      " 3 ('index', 'path of the indexed corpus files.')\n",
      " 4 ('dictionary', 'path of the corpus dictionary.')\n"
     ]
    }
   ],
   "source": [
    "do_query_and_show_res(f\"\"\"\n",
    "prefix woc: <http://rdf.webofcode.org/woc/>\n",
    "\n",
    "SELECT DISTINCT ?n_fld ?docs\n",
    "WHERE {{\n",
    "    ?cls woc:hasFullyQualifiedName \"{class_full_name}\"\n",
    "    ?fld woc:isFieldOf ?cls\n",
    "    ?fld woc:hasName ?n_fld\n",
    "    ?fld woc:hasDocumentation ?docs\n",
    "}}\n",
    "\"\"\", 50);"
   ]
  },
  {
   "cell_type": "markdown",
   "id": "2263cb59",
   "metadata": {},
   "source": [
    "#### Methods"
   ]
  },
  {
   "cell_type": "markdown",
   "id": "82a32f88",
   "metadata": {},
   "source": [
    "Lets see some `methods` from one of those `classes`:"
   ]
  },
  {
   "cell_type": "code",
   "execution_count": 54,
   "id": "79e4df25",
   "metadata": {},
   "outputs": [],
   "source": [
    "class_full_name = \"okgraph.core.OKgraph\""
   ]
  },
  {
   "cell_type": "code",
   "execution_count": 55,
   "id": "d6f689a3",
   "metadata": {},
   "outputs": [
    {
     "name": "stdout",
     "output_type": "stream",
     "text": [
      "Results:\n",
      "\n",
      " 1 ('_get_embeddings',)\n",
      " 2 ('_get_index',)\n",
      " 3 ('_get_dictionary',)\n",
      " 4 ('relation_expansion',)\n",
      " 5 ('relation_labeling',)\n",
      " 6 ('set_expansion',)\n",
      " 7 ('set_labeling',)\n"
     ]
    }
   ],
   "source": [
    "do_query_and_show_res(f\"\"\"\n",
    "prefix woc: <http://rdf.webofcode.org/woc/>\n",
    "\n",
    "SELECT DISTINCT ?n_mth\n",
    "WHERE {{\n",
    "    ?cls woc:hasFullyQualifiedName \"{class_full_name}\"\n",
    "    ?mth woc:isMethodOf ?cls\n",
    "    ?mth woc:hasName ?n_mth\n",
    "}}\n",
    "\"\"\", 50);"
   ]
  },
  {
   "cell_type": "code",
   "execution_count": 56,
   "id": "7c3aae41",
   "metadata": {},
   "outputs": [
    {
     "name": "stdout",
     "output_type": "stream",
     "text": [
      "No results!\n"
     ]
    }
   ],
   "source": [
    "do_query_and_show_res(f\"\"\"\n",
    "prefix woc: <http://rdf.webofcode.org/woc/>\n",
    "\n",
    "SELECT DISTINCT ?n_mth ?docs\n",
    "WHERE {{\n",
    "    ?cls woc:hasFullyQualifiedName \"{class_full_name}\"\n",
    "    ?mth woc:isMethodOf ?cls\n",
    "    ?mth woc:hasName ?n_mth\n",
    "    ?mth woc:hasDocumentation ?docs\n",
    "}}\n",
    "\"\"\", 50);"
   ]
  },
  {
   "cell_type": "markdown",
   "id": "5f2eca07",
   "metadata": {},
   "source": [
    "#### Parameters"
   ]
  },
  {
   "cell_type": "code",
   "execution_count": 57,
   "id": "9fcec282",
   "metadata": {},
   "outputs": [],
   "source": [
    "class_full_name = \"okgraph.core.OKgraph\"\n",
    "method_name = \"relation_expansion\""
   ]
  },
  {
   "cell_type": "code",
   "execution_count": 60,
   "id": "62cc9867",
   "metadata": {},
   "outputs": [
    {
     "name": "stdout",
     "output_type": "stream",
     "text": [
      "Results:\n",
      "\n",
      " 1 ('self',)\n",
      " 2 ('seed',)\n",
      " 3 ('k',)\n",
      " 4 ('algo',)\n",
      " 5 ('options',)\n"
     ]
    }
   ],
   "source": [
    "do_query_and_show_res(f\"\"\"\n",
    "prefix woc: <http://rdf.webofcode.org/woc/>\n",
    "\n",
    "SELECT DISTINCT ?n_par\n",
    "WHERE {{\n",
    "    ?cls woc:hasFullyQualifiedName \"{class_full_name}\"\n",
    "    ?mth woc:isMethodOf ?cls\n",
    "    ?mth woc:hasName \"{method_name}\"\n",
    "    ?par woc:isParameterOf ?mth\n",
    "    ?par woc:hasName ?n_par\n",
    "}}\n",
    "\"\"\", 50);"
   ]
  },
  {
   "cell_type": "code",
   "execution_count": null,
   "id": "b914e959",
   "metadata": {},
   "outputs": [],
   "source": []
  }
 ],
 "metadata": {
  "kernelspec": {
   "display_name": "Python 3 (ipykernel)",
   "language": "python",
   "name": "python3"
  },
  "language_info": {
   "codemirror_mode": {
    "name": "ipython",
    "version": 3
   },
   "file_extension": ".py",
   "mimetype": "text/x-python",
   "name": "python",
   "nbconvert_exporter": "python",
   "pygments_lexer": "ipython3",
   "version": "3.9.7"
  }
 },
 "nbformat": 4,
 "nbformat_minor": 5
}
