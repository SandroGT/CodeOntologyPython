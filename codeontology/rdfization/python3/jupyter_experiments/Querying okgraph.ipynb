{
 "cells": [
  {
   "cell_type": "markdown",
   "id": "82a030c2",
   "metadata": {},
   "source": [
    "### Initialization"
   ]
  },
  {
   "cell_type": "markdown",
   "id": "534cfb67",
   "metadata": {},
   "source": [
    "Import of standard and third party libraries."
   ]
  },
  {
   "cell_type": "code",
   "execution_count": 6,
   "id": "2daa8e5e",
   "metadata": {},
   "outputs": [],
   "source": [
    "import os\n",
    "from pathlib import Path\n",
    "import sys\n",
    "\n",
    "import astroid\n",
    "import owlready2 as owl\n",
    "\n",
    "HTML_W_PX = 800\n",
    "HTML_H_PX = 800"
   ]
  },
  {
   "cell_type": "markdown",
   "id": "88c45cf6",
   "metadata": {},
   "source": [
    "Adding `codeontology` to sys path for its import (it is not installed in this virtual environement)."
   ]
  },
  {
   "cell_type": "code",
   "execution_count": 7,
   "id": "f0c57a6c",
   "metadata": {},
   "outputs": [],
   "source": [
    "codeontology_path = Path(\"..\", \"..\", \"..\", \"..\").resolve()\n",
    "assert codeontology_path.exists()\n",
    "sys.path.insert(0, str(codeontology_path))"
   ]
  },
  {
   "cell_type": "markdown",
   "id": "722514b4",
   "metadata": {},
   "source": [
    "### RDFization"
   ]
  },
  {
   "cell_type": "markdown",
   "id": "598dd342",
   "metadata": {},
   "source": [
    "We perform the triple extraction on the locally available source code of the [`okgraph`](https://github.com/atzori/okgraph) library. We use [`okgraph`](https://github.com/atzori/okgraph) as our test library because it is a real repository, sufficiently (but not overly) complex, and most importantly well known to us. The last one makes our test/inspection task easier, since we know its contents reasonably well."
   ]
  },
  {
   "cell_type": "code",
   "execution_count": 8,
   "id": "5531bf8b",
   "metadata": {},
   "outputs": [],
   "source": [
    "a = 0"
   ]
  },
  {
   "cell_type": "code",
   "execution_count": 3,
   "id": "493b6068",
   "metadata": {},
   "outputs": [
    {
     "name": "stderr",
     "output_type": "stream",
     "text": [
      "2023-02-18 11:01:44 INFO    > Installing project in 'D:\\Users\\sandr\\CodeOntologyOut\\okgraph\\download\\install'.\n",
      "2023-02-18 11:01:49 INFO    > Installed project 'okgraph-0.0.1'.\n",
      "2023-02-18 11:01:49 INFO    > Installing project with its dependencies in 'D:\\Users\\sandr\\CodeOntologyOut\\okgraph\\download\\install'.\n",
      "2023-02-18 11:09:58 INFO    > Creating object for `Project` 'okgraph-0.0.1' (from 'D:\\Coding\\PyCharm\\okgraph').\n",
      "2023-02-18 11:10:10 INFO    > Building unique model of 'okgraph-0.0.1':\n",
      "2023-02-18 11:10:10 INFO    >  - parsing project packages and actual referenced dependencies (not linear progression);\n",
      "100%|██████████████████████████████████████████████████████████████████████████████████████████████████████████████████████████████████████████████████████████████████████████████████████████████████| 34/34 [01:35<00:00,  2.81s/it]\n",
      "2023-02-18 11:11:45 INFO    >  - applying transformations to the ASTs of the project and of its actual referenced dependencies.\n",
      "100%|██████████████████████████████████████████████████████████████████████████████████████████████████████████████████████████████████████████████████████████████████████████████████████████████| 2977/2977 [05:37<00:00,  8.82it/s]\n",
      "2023-02-18 11:17:23 INFO    > Extracting RDF triples from 'okgraph-0.0.1' (project and actual referenced dependencies).\n",
      "100%|██████████████████████████████████████████████████████████████████████████████████████████████████████████████████████████████████████████████████████████████████████████████████████████████████| 34/34 [00:01<00:00, 31.48it/s]\n",
      "2023-02-18 11:17:24 INFO    > Saving triples at 'D:\\Users\\sandr\\CodeOntologyOut\\okgraph\\output\\okgraph-0.0.1.nt'.\n"
     ]
    },
    {
     "data": {
      "text/plain": [
       "0"
      ]
     },
     "execution_count": 3,
     "metadata": {},
     "output_type": "execute_result"
    }
   ],
   "source": [
    "from codeontology.__main__ import main\n",
    "main([\n",
    "    \"python3\", \"local\", \"D:\\\\Coding\\\\PyCharm\\\\okgraph\",\n",
    "    \"-d\", \"D:\\\\Users\\\\sandr\\\\CodeOntologyOut\\\\okgraph\\\\download\",\n",
    "    \"-o\", \"D:\\\\Users\\\\sandr\\\\CodeOntologyOut\\\\okgraph\\\\output\",\n",
    "])"
   ]
  },
  {
   "cell_type": "markdown",
   "id": "cf5a5f65",
   "metadata": {},
   "source": [
    "### Query"
   ]
  },
  {
   "cell_type": "markdown",
   "id": "88248072",
   "metadata": {},
   "source": [
    "As said, the triple have been stored! We load them with `owlready2` to make some simple queries."
   ]
  },
  {
   "cell_type": "code",
   "execution_count": 9,
   "id": "c9dd350b",
   "metadata": {},
   "outputs": [],
   "source": [
    "path = Path(\"D:\\\\Users\\\\sandr\\\\CodeOntologyOut\\\\okgraph\\\\output\\\\okgraph-0.0.1.nt\")\n",
    "ontology = owl.get_ontology(str(path)).load()"
   ]
  },
  {
   "cell_type": "markdown",
   "id": "187e9898",
   "metadata": {},
   "source": [
    "We use a custom function just to properly format and show the results."
   ]
  },
  {
   "cell_type": "code",
   "execution_count": 10,
   "id": "82142349",
   "metadata": {},
   "outputs": [],
   "source": [
    "from query import list_query_results, show_subgraph_from_entity"
   ]
  },
  {
   "cell_type": "markdown",
   "id": "ad92367b",
   "metadata": {},
   "source": [
    "#### Libraries and packages"
   ]
  },
  {
   "cell_type": "markdown",
   "id": "b9010249",
   "metadata": {},
   "source": [
    "When running the extraction, we start downloading the dependencies of the project by (fakely) installing all the libraries dictated in the setup.py file. According to `pip list` this is what we should have in our environment after a clean install:\n",
    "```\n",
    "annoy              1.17.1    \n",
    "certifi            2022.12.7 \n",
    "charset-normalizer 3.0.1     \n",
    "colorama           0.4.6     \n",
    "fasteners          0.18      \n",
    "filelock           3.9.0     \n",
    "h5py               3.8.0     \n",
    "huggingface-hub    0.12.0    \n",
    "idna               3.4       \n",
    "joblib             1.2.0     \n",
    "lz4                4.3.2     \n",
    "numpy              1.24.1    \n",
    "packaging          23.0      \n",
    "pip                22.3.1    \n",
    "pymagnitude        0.1.143   \n",
    "PyYAML             6.0       \n",
    "regex              2022.10.31\n",
    "requests           2.28.2    \n",
    "scikit-learn       1.2.1     \n",
    "scipy              1.10.0    \n",
    "setuptools         65.6.3    \n",
    "threadpoolctl      3.1.0     \n",
    "tokenizers         0.13.2    \n",
    "torch              1.13.1    \n",
    "tqdm               4.64.1    \n",
    "transformers       4.26.0    \n",
    "typing_extensions  4.4.0\n",
    "urllib3            1.26.14\n",
    "Whoosh             2.7.4\n",
    "xxhash             3.2.0\n",
    "```\n",
    "This is not really meaningful of what is **really** used in the library.\n",
    "\n",
    "Some dependencies may be a leftover (`tqdm` is in the requirements, but has not been used in the *okgraph* code); some other dependencies may be there because are a dependency for our dependencies, but are actually never referenced from us or from the part of code of those dependencies that we effectively use.\n",
    "\n",
    "Querying the generated triples asking for the libraries can show us which libraries are actually used, accounting for the standard library too (that obviously never appear in the list of installed libraries/packages)."
   ]
  },
  {
   "cell_type": "code",
   "execution_count": 11,
   "id": "f2a0752c",
   "metadata": {},
   "outputs": [
    {
     "name": "stdout",
     "output_type": "stream",
     "text": [
      "Results:\n",
      "\n",
      " 1 ('abc', 'http://rdf.webofcode.org/woc/library13')\n",
      " 2 ('builtins', 'http://rdf.webofcode.org/woc/library9')\n",
      " 3 ('docs', 'http://rdf.webofcode.org/woc/library1')\n",
      " 4 ('gensim', 'http://rdf.webofcode.org/woc/library15')\n",
      " 5 ('itertools', 'http://rdf.webofcode.org/woc/library23')\n",
      " 6 ('logging', 'http://rdf.webofcode.org/woc/library19')\n",
      " 7 ('math', 'http://rdf.webofcode.org/woc/library24')\n",
      " 8 ('nt', 'http://rdf.webofcode.org/woc/library3')\n",
      " 9 ('ntpath', 'http://rdf.webofcode.org/woc/library4')\n",
      "10 ('numpy', 'http://rdf.webofcode.org/woc/library8')\n",
      "11 ('okgraph', 'http://rdf.webofcode.org/woc/library10')\n",
      "12 ('operator', 'http://rdf.webofcode.org/woc/library20')\n",
      "13 ('os', 'http://rdf.webofcode.org/woc/library2')\n",
      "14 ('pymagnitude', 'http://rdf.webofcode.org/woc/library11')\n",
      "15 ('re', 'http://rdf.webofcode.org/woc/library16')\n",
      "16 ('requests', 'http://rdf.webofcode.org/woc/library22')\n",
      "17 ('shutil', 'http://rdf.webofcode.org/woc/library5')\n",
      "18 ('sphinx', 'http://rdf.webofcode.org/woc/library6')\n",
      "19 ('string', 'http://rdf.webofcode.org/woc/library21')\n",
      "20 ('tests', 'http://rdf.webofcode.org/woc/library7')\n",
      "21 ('threading', 'http://rdf.webofcode.org/woc/library12')\n",
      "22 ('transformers', 'http://rdf.webofcode.org/woc/library25')\n",
      "23 ('typing', 'http://rdf.webofcode.org/woc/library18')\n",
      "24 ('unittest', 'http://rdf.webofcode.org/woc/library14')\n",
      "25 ('whoosh', 'http://rdf.webofcode.org/woc/library17')\n"
     ]
    }
   ],
   "source": [
    "list_query_results(\"\"\"\n",
    "prefix woc: <http://rdf.webofcode.org/woc/>\n",
    "\n",
    "SELECT DISTINCT ?n_lib ?lib\n",
    "WHERE {\n",
    "    ?lib rdf:type woc:Library .\n",
    "    ?lib woc:hasName ?n_lib .\n",
    "}\n",
    "\"\"\", 50);"
   ]
  },
  {
   "cell_type": "code",
   "execution_count": 16,
   "id": "7082918d",
   "metadata": {},
   "outputs": [
    {
     "data": {
      "text/html": [
       "\n",
       "        <iframe\n",
       "            width=\"810\"\n",
       "            height=\"810\"\n",
       "            src=\"subkg_from_importstatement24_deep2.html\"\n",
       "            frameborder=\"0\"\n",
       "            allowfullscreen\n",
       "            \n",
       "        ></iframe>\n",
       "        "
      ],
      "text/plain": [
       "<IPython.lib.display.IFrame at 0x2525c616e20>"
      ]
     },
     "execution_count": 16,
     "metadata": {},
     "output_type": "execute_result"
    }
   ],
   "source": [
    "out = show_subgraph_from_entity('http://rdf.webofcode.org/woc/importstatement24', ontology, HTML_W_PX, HTML_H_PX, max_deep=2)\n",
    "from IPython.display import IFrame\n",
    "IFrame(src=out, width=HTML_W_PX+10, height=HTML_H_PX+10)"
   ]
  },
  {
   "cell_type": "code",
   "execution_count": 15,
   "id": "ed269b28",
   "metadata": {},
   "outputs": [
    {
     "name": "stdout",
     "output_type": "stream",
     "text": [
      "Results:\n",
      "\n",
      "  1 ('abc',)\n",
      "  2 ('builtins',)\n",
      "  3 ('docs',)\n",
      "  4 ('docs.make_docs',)\n",
      "  5 ('gensim.downloader',)\n",
      "  6 ('gensim.models.base_any2vec',)\n",
      "  7 ('gensim.models.phrases',)\n",
      "  8 ('gensim.models.word2vec',)\n",
      "  9 ('gensim.utils',)\n",
      " 10 ('itertools',)\n",
      " 11 ('logging',)\n",
      " 12 ('logging.config',)\n",
      " 13 ('math',)\n",
      " 14 ('nt',)\n",
      " 15 ('numpy',)\n",
      " 16 ('numpy.core.numerictypes',)\n",
      " 17 ('okgraph',)\n",
      " 18 ('okgraph.core',)\n",
      " 19 ('okgraph.embeddings',)\n",
      " 20 ('okgraph.evaluation',)\n",
      " 21 ('okgraph.indexing',)\n",
      " 22 ('okgraph.preprocessing',)\n",
      " 23 ('okgraph.sliding_windows',)\n",
      " 24 ('okgraph.task',)\n",
      " 25 ('okgraph.task.relation_expansion',)\n",
      " 26 ('okgraph.task.relation_expansion.centroid',)\n",
      " 27 ('okgraph.task.relation_expansion.centroid.centroid',)\n",
      " 28 ('okgraph.task.relation_expansion.intersection',)\n",
      " 29 ('okgraph.task.relation_expansion.intersection.intersection',)\n",
      " 30 ('okgraph.task.relation_labeling',)\n",
      " 31 ('okgraph.task.relation_labeling.intersection',)\n",
      " 32 ('okgraph.task.relation_labeling.intersection.intersection',)\n",
      " 33 ('okgraph.task.set_expansion',)\n",
      " 34 ('okgraph.task.set_expansion.centroid',)\n",
      " 35 ('okgraph.task.set_expansion.centroid.centroid',)\n",
      " 36 ('okgraph.task.set_expansion.centroid_boost',)\n",
      " 37 ('okgraph.task.set_expansion.centroid_boost.centroid_boost',)\n",
      " 38 ('okgraph.task.set_expansion.depth',)\n",
      " 39 ('okgraph.task.set_expansion.depth.depth',)\n",
      " 40 ('okgraph.task.set_expansion.fill_mask',)\n",
      " 41 ('okgraph.task.set_expansion.fill_mask.fill_mask',)\n",
      " 42 ('okgraph.task.set_labeling',)\n",
      " 43 ('okgraph.task.set_labeling.intersection',)\n",
      " 44 ('okgraph.task.set_labeling.intersection.intersection',)\n",
      " 45 ('okgraph.utils',)\n",
      " 46 ('operator',)\n",
      " 47 ('os',)\n",
      " 48 ('pymagnitude',)\n",
      " 49 ('re',)\n",
      " 50 ('requests',)\n",
      " 51 ('shutil',)\n",
      " 52 ('sphinx.ext.apidoc',)\n",
      " 53 ('string',)\n",
      " 54 ('tests',)\n",
      " 55 ('tests.get_test_corpus_and_resources',)\n",
      " 56 ('tests.test_okgraph',)\n",
      " 57 ('threading',)\n",
      " 58 ('transformers.pipelines',)\n",
      " 59 ('transformers.pipelines.base',)\n",
      " 60 ('typing',)\n",
      " 61 ('unittest',)\n",
      " 62 ('unittest.case',)\n",
      " 63 ('whoosh.fields',)\n",
      " 64 ('whoosh.qparser.default',)\n"
     ]
    }
   ],
   "source": [
    "list_query_results(\"\"\"\n",
    "prefix woc: <http://rdf.webofcode.org/woc/>\n",
    "\n",
    "SELECT DISTINCT ?n_pkg\n",
    "WHERE {\n",
    "    ?pkg rdf:type woc:Package \n",
    "    ?pkg woc:hasFullyQualifiedName ?n_pkg\n",
    "}\n",
    "\"\"\", 100);"
   ]
  },
  {
   "cell_type": "code",
   "execution_count": 9,
   "id": "1e6e951d",
   "metadata": {},
   "outputs": [
    {
     "ename": "NameError",
     "evalue": "name 'do_query_and_show_res' is not defined",
     "output_type": "error",
     "traceback": [
      "\u001b[1;31m---------------------------------------------------------------------------\u001b[0m",
      "\u001b[1;31mNameError\u001b[0m                                 Traceback (most recent call last)",
      "Cell \u001b[1;32mIn[9], line 1\u001b[0m\n\u001b[1;32m----> 1\u001b[0m \u001b[43mdo_query_and_show_res\u001b[49m(\u001b[38;5;124m\"\"\"\u001b[39m\n\u001b[0;32m      2\u001b[0m \u001b[38;5;124mprefix woc: <http://rdf.webofcode.org/woc/>\u001b[39m\n\u001b[0;32m      3\u001b[0m \n\u001b[0;32m      4\u001b[0m \u001b[38;5;124mSELECT ?n_pkg\u001b[39m\n\u001b[0;32m      5\u001b[0m \u001b[38;5;124mWHERE \u001b[39m\u001b[38;5;124m{\u001b[39m\n\u001b[0;32m      6\u001b[0m \u001b[38;5;124m    ?pkg rdf:type woc:Package \u001b[39m\n\u001b[0;32m      7\u001b[0m \u001b[38;5;124m    ?pkg woc:hasFullyQualifiedName ?n_pkg\u001b[39m\n\u001b[0;32m      8\u001b[0m \u001b[38;5;124m}\u001b[39m\n\u001b[0;32m      9\u001b[0m \u001b[38;5;124m\"\"\"\u001b[39m, \u001b[38;5;241m100\u001b[39m);\n",
      "\u001b[1;31mNameError\u001b[0m: name 'do_query_and_show_res' is not defined"
     ]
    }
   ],
   "source": [
    "do_query_and_show_res(\"\"\"\n",
    "prefix woc: <http://rdf.webofcode.org/woc/>\n",
    "\n",
    "SELECT ?n_pkg\n",
    "WHERE {\n",
    "    ?pkg rdf:type woc:Package \n",
    "    ?pkg woc:hasFullyQualifiedName ?n_pkg\n",
    "}\n",
    "\"\"\", 100);"
   ]
  },
  {
   "cell_type": "markdown",
   "id": "804c9e93",
   "metadata": {},
   "source": [
    "#### OKgraph Packages"
   ]
  },
  {
   "cell_type": "markdown",
   "id": "b544a061",
   "metadata": {},
   "source": [
    "Lets see which `packages` are in `okgraph`:"
   ]
  },
  {
   "cell_type": "code",
   "execution_count": 10,
   "id": "9e10d9f6",
   "metadata": {},
   "outputs": [
    {
     "ename": "NameError",
     "evalue": "name 'do_query_and_show_res' is not defined",
     "output_type": "error",
     "traceback": [
      "\u001b[1;31m---------------------------------------------------------------------------\u001b[0m",
      "\u001b[1;31mNameError\u001b[0m                                 Traceback (most recent call last)",
      "Cell \u001b[1;32mIn[10], line 1\u001b[0m\n\u001b[1;32m----> 1\u001b[0m \u001b[43mdo_query_and_show_res\u001b[49m(\u001b[38;5;124m\"\"\"\u001b[39m\n\u001b[0;32m      2\u001b[0m \u001b[38;5;124mprefix woc: <http://rdf.webofcode.org/woc/>\u001b[39m\n\u001b[0;32m      3\u001b[0m \n\u001b[0;32m      4\u001b[0m \u001b[38;5;124mSELECT DISTINCT ?n_pkg\u001b[39m\n\u001b[0;32m      5\u001b[0m \u001b[38;5;124mWHERE \u001b[39m\u001b[38;5;124m{\u001b[39m\n\u001b[0;32m      6\u001b[0m \u001b[38;5;124m    ?lib woc:hasProject ?prj\u001b[39m\n\u001b[0;32m      7\u001b[0m \u001b[38;5;124m    ?lib woc:hasName \u001b[39m\u001b[38;5;124m\"\u001b[39m\u001b[38;5;124mokgraph\u001b[39m\u001b[38;5;124m\"\u001b[39m\n\u001b[0;32m      8\u001b[0m \u001b[38;5;124m    ?pkg woc:hasLibrary ?lib\u001b[39m\n\u001b[0;32m      9\u001b[0m \u001b[38;5;124m    ?pkg woc:hasFullyQualifiedName ?n_pkg\u001b[39m\n\u001b[0;32m     10\u001b[0m \u001b[38;5;124m}\u001b[39m\n\u001b[0;32m     11\u001b[0m \u001b[38;5;124m\"\"\"\u001b[39m, \u001b[38;5;241m50\u001b[39m);\n",
      "\u001b[1;31mNameError\u001b[0m: name 'do_query_and_show_res' is not defined"
     ]
    }
   ],
   "source": [
    "do_query_and_show_res(\"\"\"\n",
    "prefix woc: <http://rdf.webofcode.org/woc/>\n",
    "\n",
    "SELECT DISTINCT ?n_pkg\n",
    "WHERE {\n",
    "    ?lib woc:hasProject ?prj\n",
    "    ?lib woc:hasName \"okgraph\"\n",
    "    ?pkg woc:hasLibrary ?lib\n",
    "    ?pkg woc:hasFullyQualifiedName ?n_pkg\n",
    "}\n",
    "\"\"\", 50);"
   ]
  },
  {
   "cell_type": "code",
   "execution_count": 11,
   "id": "8bc1011a",
   "metadata": {},
   "outputs": [
    {
     "ename": "NameError",
     "evalue": "name 'do_query_and_show_res' is not defined",
     "output_type": "error",
     "traceback": [
      "\u001b[1;31m---------------------------------------------------------------------------\u001b[0m",
      "\u001b[1;31mNameError\u001b[0m                                 Traceback (most recent call last)",
      "Cell \u001b[1;32mIn[11], line 1\u001b[0m\n\u001b[1;32m----> 1\u001b[0m \u001b[43mdo_query_and_show_res\u001b[49m(\u001b[38;5;124m\"\"\"\u001b[39m\n\u001b[0;32m      2\u001b[0m \u001b[38;5;124mprefix woc: <http://rdf.webofcode.org/woc/>\u001b[39m\n\u001b[0;32m      3\u001b[0m \n\u001b[0;32m      4\u001b[0m \u001b[38;5;124mSELECT DISTINCT ?n_pkg ?docs\u001b[39m\n\u001b[0;32m      5\u001b[0m \u001b[38;5;124mWHERE \u001b[39m\u001b[38;5;124m{\u001b[39m\n\u001b[0;32m      6\u001b[0m \u001b[38;5;124m    ?lib woc:hasProject ?prj\u001b[39m\n\u001b[0;32m      7\u001b[0m \u001b[38;5;124m    ?lib woc:hasName \u001b[39m\u001b[38;5;124m\"\u001b[39m\u001b[38;5;124mokgraph\u001b[39m\u001b[38;5;124m\"\u001b[39m\n\u001b[0;32m      8\u001b[0m \u001b[38;5;124m    ?pkg woc:hasLibrary ?lib\u001b[39m\n\u001b[0;32m      9\u001b[0m \u001b[38;5;124m    ?pkg woc:hasFullyQualifiedName ?n_pkg\u001b[39m\n\u001b[0;32m     10\u001b[0m \u001b[38;5;124m    ?pkg woc:hasDocumentation ?docs\u001b[39m\n\u001b[0;32m     11\u001b[0m \u001b[38;5;124m}\u001b[39m\n\u001b[0;32m     12\u001b[0m \u001b[38;5;124m\"\"\"\u001b[39m, \u001b[38;5;241m50\u001b[39m);\n",
      "\u001b[1;31mNameError\u001b[0m: name 'do_query_and_show_res' is not defined"
     ]
    }
   ],
   "source": [
    "do_query_and_show_res(\"\"\"\n",
    "prefix woc: <http://rdf.webofcode.org/woc/>\n",
    "\n",
    "SELECT DISTINCT ?n_pkg ?docs\n",
    "WHERE {\n",
    "    ?lib woc:hasProject ?prj\n",
    "    ?lib woc:hasName \"okgraph\"\n",
    "    ?pkg woc:hasLibrary ?lib\n",
    "    ?pkg woc:hasFullyQualifiedName ?n_pkg\n",
    "    ?pkg woc:hasDocumentation ?docs\n",
    "}\n",
    "\"\"\", 50);"
   ]
  },
  {
   "cell_type": "markdown",
   "id": "418ef836",
   "metadata": {},
   "source": [
    "#### Classes"
   ]
  },
  {
   "cell_type": "markdown",
   "id": "97ff603a",
   "metadata": {},
   "source": [
    "Lets see which `classes` are in `okgraph`:"
   ]
  },
  {
   "cell_type": "code",
   "execution_count": 10,
   "id": "a78dad27",
   "metadata": {},
   "outputs": [
    {
     "name": "stdout",
     "output_type": "stream",
     "text": [
      "Results:\n",
      "\n",
      " 1 ('okgraph.core.NotExistingCorpusException',)\n",
      " 2 ('okgraph.core.OKgraph',)\n",
      " 3 ('okgraph.embeddings.FileConverter',)\n",
      " 4 ('okgraph.embeddings.MagnitudeWordEmbeddings',)\n",
      " 5 ('okgraph.embeddings.NotExistingWordException',)\n",
      " 6 ('okgraph.embeddings.WordEmbeddings',)\n",
      " 7 ('okgraph.indexing.Indexing',)\n",
      " 8 ('okgraph.sliding_windows.SlidingWindows',)\n"
     ]
    }
   ],
   "source": [
    "do_query_and_show_res(\"\"\"\n",
    "prefix woc: <http://rdf.webofcode.org/woc/>\n",
    "\n",
    "SELECT DISTINCT ?n_cls\n",
    "WHERE {\n",
    "    ?lib woc:hasProject ?prj\n",
    "    ?lib woc:hasName \"okgraph\"\n",
    "    ?pkg woc:hasLibrary ?lib\n",
    "    ?cls rdf:type woc:Class\n",
    "    ?cls woc:hasPackage ?pkg\n",
    "    ?cls woc:hasFullyQualifiedName ?n_cls\n",
    "}\n",
    "\"\"\", 50);"
   ]
  },
  {
   "cell_type": "code",
   "execution_count": 11,
   "id": "72d32ec2",
   "metadata": {},
   "outputs": [
    {
     "name": "stdout",
     "output_type": "stream",
     "text": [
      "Results:\n",
      "\n",
      " 1 (\n",
      "        okgraph.core.NotExistingCorpusException\n",
      "        An exception used to represent the error that occur when the specified corpus is not existing.,\n",
      "   )\n",
      " 2 (\n",
      "        okgraph.core.OKgraph\n",
      "        A class used to extract knowledge from unstructured text corpus. This class currently focuses on the following tasks: - **set expansion**: given one or a short set of words, continues this set with a list of other 'same-type' words (`co-hyponyms <https://en.wikipedia.org/wiki/Hyponymy_and_hypernymy#Co-hyponyms>`_); - **relation expansion**: given one or a short set of word pairs, continues this set with a list of pairs having the same implicit relation of the given pairs; - **set labeling**: given one or a short set of words, returns a list of short strings (labels) describing the given set (its type or `hyperonym <https://en.wikipedia.org/wiki/Hyponymy_and_hypernymy>`_); - **relation labeling**: given one or a short set of word pairs, returns a list of short strings (labels) describing the relation in the given set; All the tasks work with plain text corpus (untagged).,\n",
      "   )\n",
      " 3 (\n",
      "        okgraph.embeddings.FileConverter\n",
      "        A class used to convert text corpus and embeddings to Magnitude models. Text corpus should be plain text without any kind of formatting.,\n",
      "   )\n",
      " 4 (\n",
      "        okgraph.embeddings.MagnitudeWordEmbeddings\n",
      "        A class used to represent word embeddings through the `Magnitude <https://github.com/plasticityai/magnitude/blob/master/README.md>`_ model.,\n",
      "   )\n",
      " 5 (\n",
      "        okgraph.embeddings.NotExistingWordException\n",
      "        An exception used to represent the error that occur when a word is searched in the embeddings but it's not existing.,\n",
      "   )\n",
      " 6 (\n",
      "        okgraph.embeddings.WordEmbeddings\n",
      "        An abstract class representing `word embeddings <https://en.wikipedia.org/wiki/Word_embedding>`_ and their usual operations.,\n",
      "   )\n",
      " 7 (\n",
      "        okgraph.indexing.Indexing\n",
      "        A class used to create an index of the corpus. The corpus is divided in sub-documents with a unique ID to identify their content. All the documents are then stored and indexed. Every sub-document (or document) is a text window extracted from the corpus. All the documents have the same specified dimension and adjoining documents are partially overlaid.,\n",
      "   )\n",
      " 8 (\n",
      "        okgraph.sliding_windows.SlidingWindows\n",
      "        A class used to inspect the context of the target words. The words that appear close to the target words inside the corpus are the words with similar meaning to the target words (according to the distributional hypothesis) and are going to be referenced as labels. The labels appear in the same context of the target words. The context is represented by windows of text with specified size containing the target words. The size of a text window is measured in 'words'. The text windows are extracted from the corpus and used to identify the labels. The congruence of the labels with the target words is evaluated through a TF-IDF statistic.,\n",
      "   )\n",
      " 9 (\n",
      "        okgraph.task.relation_expansion.centroid.centroid.task\n",
      "        Finds tuples with the same implicit relation of the seed tuples. Every seed tuple is composed by a generic number of words whose meaning is strictly related to the position in the tuple. All the words in the same positions are collected in new lists. Every new list is expanded through a set expansion algorithm and new words are found as candidates for that position in new tuples. The relation between two tuple words in different positions can be expressed by their vector difference. These vector differences are obtained from the seed and used to validate the new tuples obtained combining the new words from the set expansion into new tuples.,\n",
      "   )\n",
      "10 (\n",
      "        okgraph.task.relation_expansion.centroid.centroid.task\n",
      "        Returns: tuples similar to the tuples in the seed.,\n",
      "   )\n",
      "11 (\n",
      "        okgraph.task.relation_expansion.intersection.intersection.task\n",
      "        Finds tuples with the same implicit relation of the seed tuples. This task is based on the use of the \"relation labeling\" and \"set expansion\" algorithms. All the words in the same positions are collected in new lists. Every new list is expanded through a set expansion algorithm and new words are found to be combined into new tuples. The \"relation labeling\" algorithm is used to obtain the labels of the seed and the labels of every new tuple. The new tuples described by a set of labels including the seed labels are considered an expansion of the seed.,\n",
      "   )\n",
      "12 (\n",
      "        okgraph.task.relation_expansion.intersection.intersection.task\n",
      "        Returns: tuples similar to the tuples in the seed.,\n",
      "   )\n",
      "13 (\n",
      "        okgraph.task.relation_labeling.intersection.intersection.task\n",
      "        Finds labels describing the implicit relation between the seed tuples. This task is based on the distributional hypothesis. SlidingWindows objects are used to inspect the context of every seed tuple. A set of labels is obtained from every SlidingWindows object. The intersection of all the set of labels is the set of labels which describes the seed tuples. The common labels are ordered using a score evaluated as their average TF-IDF statistic obtained from the different windows.,\n",
      "   )\n",
      "14 (\n",
      "        okgraph.task.relation_labeling.intersection.intersection.task\n",
      "        Returns: labels describing the seed.,\n",
      "   )\n",
      "15 (\n",
      "        okgraph.task.set_expansion.centroid.centroid.task\n",
      "        Finds words with the same implicit relation of the seed words (co-hyponyms). This task uses a 'centroid' based method. The vector representation of the seed words is used to calculate their average vector (centroid). The embeddings are then used to find the words closest to the centroid: these words are the seed expansion.,\n",
      "   )\n",
      "16 (\n",
      "        okgraph.task.set_expansion.centroid.centroid.task\n",
      "        Returns: words similar to the words in the seed.,\n",
      "   )\n",
      "17 (\n",
      "        okgraph.task.set_expansion.centroid_boost.centroid_boost.task\n",
      "        Finds words with the same implicit relation of the seed words (co-hyponyms). This task uses a 'centroid' based method. The vector representation of the seed words is used to calculate their average vector (centroid). The embeddings are then used to find the words closest to the centroid: some of these words are added to the seed and the centroid is updated to find other similar words. The iteration proceed until the seed is expanded with the requested number of similar words.,\n",
      "   )\n",
      "18 (\n",
      "        okgraph.task.set_expansion.centroid_boost.centroid_boost.task\n",
      "        Returns: words similar to the words in the seed.,\n",
      "   )\n",
      "19 (\n",
      "        okgraph.task.set_expansion.depth.depth.task\n",
      "        Finds words with the same implicit relation of the seed words (co-hyponyms). Conceptually, this task expands the seed in a way similar to a tree expansion. The root is connected to the seed words, so that every seed word defines a node in the first level of the tree. The tree can be expanded in depth: for every word in a level (node), its similar words can be found from the embeddings and used as its children, making the new level grow in width. A score is assigned to every word in the tree, according to how many nodes are being occupied by that word. The most scored words are the result of the expansion.,\n",
      "   )\n",
      "20 (\n",
      "        okgraph.task.set_expansion.depth.depth.task\n",
      "        Returns: words similar to the words in the seed.,\n",
      "   )\n",
      "21 (\n",
      "        okgraph.task.set_expansion.fill_mask.fill_mask.task\n",
      "        Finds words with the same implicit relation of the seed words (co-hyponyms). This task uses masked models (default is 'distilbert-base-uncased'), which may need to be downloaded to be used, such as: ``` $ git clone https://huggingface.co/distilbert-base-uncased ```.,\n",
      "   )\n",
      "22 (\n",
      "        okgraph.task.set_expansion.fill_mask.fill_mask.task\n",
      "        Returns: words similar to the words in the seed.,\n",
      "   )\n",
      "23 (\n",
      "        okgraph.task.set_labeling.intersection.intersection.task\n",
      "        Finds labels describing the implicit relation between the seed words (hyperonym). This task is based on the distributional hypothesis. SlidingWindows objects are used to inspect the context of every seed word. A set of labels is obtained from every SlidingWindows object. The intersection of all the set of labels is the set of labels which describes the seed. The common labels are ordered using a score evaluated as their average TF-IDF statistic obtained from the different windows.,\n",
      "   )\n",
      "24 (\n",
      "        okgraph.task.set_labeling.intersection.intersection.task\n",
      "        Returns: labels describing the seed.,\n",
      "   )\n",
      "25 (\n",
      "        okgraph.utils.check_extension\n",
      "        Checks the validity of a file name. If the file has no extension, the default extension is appended to the file name. If the file extension is one of the allowed extensions, the file name is returned, otherwise a ValueError is raised.,\n",
      "   )\n",
      "26 (\n",
      "        okgraph.utils.check_extension\n",
      "        Returns: the name of the file. If the specified name had no extension, the default extension has been added.,\n",
      "   )\n",
      "27 (\n",
      "        okgraph.utils.download_file\n",
      "        Download a file from a specified URL. Uses the 'requests' library: check its documentation for more info. https://requests.readthedocs.io/en/master/. FIXME: may be very slow downloading.,\n",
      "   )\n",
      "28 (\n",
      "        okgraph.utils.generate_dictionary\n",
      "        Creates a dictionary representing the distribution of the words in the corpus.,\n",
      "   )\n",
      "29 (\n",
      "        okgraph.utils.generate_dictionary\n",
      "        Returns: the corpus dictionary structured as {word: occurrences}.,\n",
      "   )\n",
      "30 (\n",
      "        okgraph.utils.get_words\n",
      "        Reads a text file and allows to scroll over it word by word. The text is formatted so that the words are lowercase and the punctuation is removed.,\n",
      "   )\n",
      "31 ('okgraph.utils.get_words', 'Returns: the next word in the file.')\n",
      "32 (\n",
      "        okgraph.utils.list_flatten\n",
      "        Converts a multidimensional or nested list into a one-dimensional list.,\n",
      "   )\n",
      "33 ('okgraph.utils.list_flatten', 'Returns: flattened list.')\n",
      "34 (\n",
      "        okgraph.utils.tuple_combinations\n",
      "        Given a tuple of lists containing some elements, evaluates all the possible combinations of those elements.,\n",
      "   )\n",
      "35 (\n",
      "        okgraph.utils.tuple_combinations\n",
      "        Returns: the list of tuples obtained from the combination of the given elements.,\n",
      "   )\n"
     ]
    }
   ],
   "source": [
    "do_query_and_show_res(\"\"\"\n",
    "prefix woc: <http://rdf.webofcode.org/woc/>\n",
    "\n",
    "SELECT DISTINCT ?n_cls ?docs\n",
    "WHERE {\n",
    "    ?lib woc:hasProject ?prj\n",
    "    ?lib woc:hasName \"okgraph\"\n",
    "    ?pkg woc:hasLibrary ?lib\n",
    "    ?cls woc:hasPackage ?pkg\n",
    "    ?cls woc:hasFullyQualifiedName ?n_cls\n",
    "    ?cls woc:hasDocumentation ?docs\n",
    "}\n",
    "\"\"\", 50);"
   ]
  },
  {
   "cell_type": "markdown",
   "id": "4877a68f",
   "metadata": {},
   "source": [
    "#### Class fields"
   ]
  },
  {
   "cell_type": "markdown",
   "id": "f8bc6c93",
   "metadata": {},
   "source": [
    "Lets see some `fields` from one of those `classes`:"
   ]
  },
  {
   "cell_type": "code",
   "execution_count": 12,
   "id": "c1da66f2",
   "metadata": {},
   "outputs": [],
   "source": [
    "class_full_name = \"okgraph.core.OKgraph\""
   ]
  },
  {
   "cell_type": "code",
   "execution_count": 13,
   "id": "f095fbcf",
   "metadata": {},
   "outputs": [
    {
     "name": "stdout",
     "output_type": "stream",
     "text": [
      "Results:\n",
      "\n",
      " 1 ('corpus',)\n",
      " 2 ('dictionary',)\n",
      " 3 ('embeddings',)\n",
      " 4 ('index',)\n"
     ]
    }
   ],
   "source": [
    "do_query_and_show_res(f\"\"\"\n",
    "prefix woc: <http://rdf.webofcode.org/woc/>\n",
    "\n",
    "SELECT DISTINCT ?n_fld\n",
    "WHERE {{\n",
    "    ?cls woc:hasFullyQualifiedName \"{class_full_name}\"\n",
    "    ?fld woc:isFieldOf ?cls\n",
    "    ?fld woc:hasName ?n_fld\n",
    "}}\n",
    "\"\"\", 50);"
   ]
  },
  {
   "cell_type": "code",
   "execution_count": 14,
   "id": "eb89f195",
   "metadata": {},
   "outputs": [
    {
     "name": "stdout",
     "output_type": "stream",
     "text": [
      "Results:\n",
      "\n",
      " 1 ('corpus', 'http://rdf.webofcode.org/woc/class9')\n",
      " 2 ('dictionary', 'http://rdf.webofcode.org/woc/class9')\n",
      " 3 ('embeddings', 'http://rdf.webofcode.org/woc/class40')\n",
      " 4 ('index', 'http://rdf.webofcode.org/woc/class9')\n"
     ]
    }
   ],
   "source": [
    "do_query_and_show_res(f\"\"\"\n",
    "prefix woc: <http://rdf.webofcode.org/woc/>\n",
    "\n",
    "SELECT DISTINCT ?n_fld ?type\n",
    "WHERE {{\n",
    "    ?cls woc:hasFullyQualifiedName \"{class_full_name}\"\n",
    "    ?fld woc:isFieldOf ?cls\n",
    "    ?fld woc:hasName ?n_fld\n",
    "    ?fld woc:hasType ?type\n",
    "}}\n",
    "\"\"\", 50);"
   ]
  },
  {
   "cell_type": "code",
   "execution_count": 15,
   "id": "eb8d4c6a",
   "metadata": {},
   "outputs": [
    {
     "name": "stdout",
     "output_type": "stream",
     "text": [
      "Results:\n",
      "\n",
      " 1 ('corpus', 'path of the corpus file.')\n",
      " 2 ('dictionary', 'path of the corpus dictionary.')\n",
      " 3 ('embeddings', 'words embeddings (vector model).')\n",
      " 4 ('index', 'path of the indexed corpus files.')\n"
     ]
    }
   ],
   "source": [
    "do_query_and_show_res(f\"\"\"\n",
    "prefix woc: <http://rdf.webofcode.org/woc/>\n",
    "\n",
    "SELECT DISTINCT ?n_fld ?docs\n",
    "WHERE {{\n",
    "    ?cls woc:hasFullyQualifiedName \"{class_full_name}\"\n",
    "    ?fld woc:isFieldOf ?cls\n",
    "    ?fld woc:hasName ?n_fld\n",
    "    ?fld woc:hasDocumentation ?docs\n",
    "}}\n",
    "\"\"\", 50);"
   ]
  },
  {
   "cell_type": "markdown",
   "id": "2263cb59",
   "metadata": {},
   "source": [
    "#### Methods"
   ]
  },
  {
   "cell_type": "markdown",
   "id": "82a32f88",
   "metadata": {},
   "source": [
    "Lets see some `methods` from one of those `classes`:"
   ]
  },
  {
   "cell_type": "code",
   "execution_count": 16,
   "id": "79e4df25",
   "metadata": {},
   "outputs": [],
   "source": [
    "class_full_name = \"okgraph.core.OKgraph\""
   ]
  },
  {
   "cell_type": "code",
   "execution_count": 17,
   "id": "d6f689a3",
   "metadata": {},
   "outputs": [
    {
     "name": "stdout",
     "output_type": "stream",
     "text": [
      "Results:\n",
      "\n",
      " 1 ('_get_dictionary',)\n",
      " 2 ('_get_embeddings',)\n",
      " 3 ('_get_index',)\n",
      " 4 ('relation_expansion',)\n",
      " 5 ('relation_labeling',)\n",
      " 6 ('set_expansion',)\n",
      " 7 ('set_labeling',)\n"
     ]
    }
   ],
   "source": [
    "do_query_and_show_res(f\"\"\"\n",
    "prefix woc: <http://rdf.webofcode.org/woc/>\n",
    "\n",
    "SELECT DISTINCT ?n_mth\n",
    "WHERE {{\n",
    "    ?cls woc:hasFullyQualifiedName \"{class_full_name}\"\n",
    "    ?mth woc:isMethodOf ?cls\n",
    "    ?mth woc:hasName ?n_mth\n",
    "}}\n",
    "\"\"\", 50);"
   ]
  },
  {
   "cell_type": "code",
   "execution_count": 18,
   "id": "7c3aae41",
   "metadata": {},
   "outputs": [
    {
     "name": "stdout",
     "output_type": "stream",
     "text": [
      "Results:\n",
      "\n",
      " 1 ('_get_dictionary', 'Loads or generates the dictionary whether or not it is already existing.')\n",
      " 2 ('_get_dictionary', 'Returns: the path of the loaded/generated dictionary file.')\n",
      " 3 (\n",
      "        _get_embeddings\n",
      "        Loads or generates the embeddings whether or not it is already existing. FIXME: do not work with URLs, just with files.,\n",
      "   )\n",
      " 4 ('_get_embeddings', 'Returns: the path of the loaded/generated Magnitude model.')\n",
      " 5 ('_get_index', 'Loads or generates the index whether or not it is already existing.')\n",
      " 6 ('_get_index', 'Returns: the path of the loaded/generated index directory.')\n",
      " 7 ('relation_expansion', 'Finds tuples with the same implicit relation of the seed tuples.')\n",
      " 8 ('relation_expansion', 'Returns: the list of tuples related to the seed tuples.')\n",
      " 9 ('relation_labeling', 'Finds labels describing the implicit relation between the seed tuples.')\n",
      "10 ('relation_labeling', 'Returns: the list of labels related to the seed tuples.')\n",
      "11 ('set_expansion', 'Finds words with the same implicit relation of the seed words (co-hyponyms).')\n",
      "12 ('set_expansion', 'Returns: the list of words related to the seed words.')\n",
      "13 (\n",
      "        set_labeling\n",
      "        Finds labels describing the implicit relation between the seed words (hyperonym).,\n",
      "   )\n",
      "14 ('set_labeling', 'Returns: the list of labels related to the seed words.')\n"
     ]
    }
   ],
   "source": [
    "do_query_and_show_res(f\"\"\"\n",
    "prefix woc: <http://rdf.webofcode.org/woc/>\n",
    "\n",
    "SELECT DISTINCT ?n_mth ?docs\n",
    "WHERE {{\n",
    "    ?cls woc:hasFullyQualifiedName \"{class_full_name}\"\n",
    "    ?mth woc:isMethodOf ?cls\n",
    "    ?mth woc:hasName ?n_mth\n",
    "    ?mth woc:hasDocumentation ?docs\n",
    "}}\n",
    "\"\"\", 50);"
   ]
  },
  {
   "cell_type": "markdown",
   "id": "5f2eca07",
   "metadata": {},
   "source": [
    "#### Parameters"
   ]
  },
  {
   "cell_type": "code",
   "execution_count": 19,
   "id": "9fcec282",
   "metadata": {},
   "outputs": [],
   "source": [
    "class_full_name = \"okgraph.core.OKgraph\"\n",
    "method_name = \"relation_expansion\""
   ]
  },
  {
   "cell_type": "code",
   "execution_count": 20,
   "id": "62cc9867",
   "metadata": {},
   "outputs": [
    {
     "name": "stdout",
     "output_type": "stream",
     "text": [
      "Results:\n",
      "\n",
      " 1 ('0', 'self')\n",
      " 2 ('1', 'seed')\n",
      " 3 ('2', 'k')\n",
      " 4 ('3', 'algo')\n",
      " 5 ('4', 'options')\n"
     ]
    }
   ],
   "source": [
    "do_query_and_show_res(f\"\"\"\n",
    "prefix woc: <http://rdf.webofcode.org/woc/>\n",
    "\n",
    "SELECT DISTINCT ?p_par ?n_par\n",
    "WHERE {{\n",
    "    ?cls woc:hasFullyQualifiedName \"{class_full_name}\"\n",
    "    ?mth woc:isMethodOf ?cls\n",
    "    ?mth woc:hasName \"{method_name}\"\n",
    "    ?par woc:hasParameterPosition ?p_par\n",
    "    ?par woc:isParameterOf ?mth\n",
    "    ?par woc:hasName ?n_par\n",
    "}}\n",
    "\"\"\", 50);"
   ]
  },
  {
   "cell_type": "code",
   "execution_count": 21,
   "id": "b914e959",
   "metadata": {},
   "outputs": [
    {
     "name": "stdout",
     "output_type": "stream",
     "text": [
      "Results:\n",
      "\n",
      " 1 ('1', 'seed', 'List[Tuple[str, ...]]')\n",
      " 2 ('2', 'k', 'int')\n",
      " 3 ('3', 'algo', 'str')\n",
      " 4 ('4', 'options', 'Dict')\n"
     ]
    }
   ],
   "source": [
    "do_query_and_show_res(f\"\"\"\n",
    "prefix woc: <http://rdf.webofcode.org/woc/>\n",
    "\n",
    "SELECT DISTINCT ?p_par ?n_par ?docs\n",
    "WHERE {{\n",
    "    ?cls woc:hasFullyQualifiedName \"{class_full_name}\"\n",
    "    ?mth woc:isMethodOf ?cls\n",
    "    ?mth woc:hasName \"{method_name}\"\n",
    "    ?par woc:hasParameterPosition ?p_par\n",
    "    ?par woc:isParameterOf ?mth\n",
    "    ?par woc:hasName ?n_par\n",
    "    ?par woc:hasDocumentation ?docs\n",
    "}}\n",
    "\"\"\", 50);"
   ]
  },
  {
   "cell_type": "code",
   "execution_count": 22,
   "id": "5097e06b",
   "metadata": {},
   "outputs": [
    {
     "name": "stdout",
     "output_type": "stream",
     "text": [
      "Results:\n",
      "\n",
      " 1 ('0', 'self', 'http://rdf.webofcode.org/woc/class51')\n",
      " 2 ('1', 'seed', 'http://rdf.webofcode.org/woc/parameterizedtype67')\n",
      " 3 ('2', 'k', 'http://rdf.webofcode.org/woc/class5')\n",
      " 4 ('3', 'algo', 'http://rdf.webofcode.org/woc/class9')\n",
      " 5 ('4', 'options', 'http://rdf.webofcode.org/woc/class1')\n"
     ]
    }
   ],
   "source": [
    "do_query_and_show_res(f\"\"\"\n",
    "prefix woc: <http://rdf.webofcode.org/woc/>\n",
    "\n",
    "SELECT DISTINCT ?p_par ?n_par ?t_par\n",
    "WHERE {{\n",
    "    ?cls woc:hasFullyQualifiedName \"{class_full_name}\"\n",
    "    ?mth woc:isMethodOf ?cls\n",
    "    ?mth woc:hasName \"{method_name}\"\n",
    "    ?par woc:isParameterOf ?mth\n",
    "    ?par woc:hasParameterPosition ?p_par\n",
    "    ?par woc:hasName ?n_par\n",
    "    ?par woc:hasType ?t_par\n",
    "}}\n",
    "\"\"\", 50);"
   ]
  },
  {
   "cell_type": "code",
   "execution_count": null,
   "id": "9a74e9e3",
   "metadata": {},
   "outputs": [],
   "source": []
  },
  {
   "cell_type": "code",
   "execution_count": 23,
   "id": "65817aae",
   "metadata": {},
   "outputs": [
    {
     "name": "stdout",
     "output_type": "stream",
     "text": [
      "Results:\n",
      "\n",
      " 1 ('http://rdf.webofcode.org/woc/isParameterOf',)\n",
      " 2 ('http://rdf.webofcode.org/woc/isReturnStatementOf',)\n"
     ]
    }
   ],
   "source": [
    "do_query_and_show_res(f\"\"\"\n",
    "prefix woc: <http://rdf.webofcode.org/woc/>\n",
    "\n",
    "SELECT DISTINCT ?p\n",
    "WHERE {{\n",
    "    ?cls woc:hasFullyQualifiedName \"{class_full_name}\"\n",
    "    ?mth woc:isMethodOf ?cls\n",
    "    ?mth woc:hasName \"{method_name}\"\n",
    "    ?o ?p ?mth\n",
    "}}\n",
    "\"\"\", 50);"
   ]
  },
  {
   "cell_type": "code",
   "execution_count": 24,
   "id": "37e1e900",
   "metadata": {},
   "outputs": [
    {
     "name": "stdout",
     "output_type": "stream",
     "text": [
      "Results:\n",
      "\n",
      " 1 ('http://rdf.webofcode.org/woc/CatchStatement', 'http://www.w3.org/2002/07/owl#NamedIndividual')\n",
      " 2 ('http://rdf.webofcode.org/woc/CatchStatement', 'http://rdf.webofcode.org/woc/BlockStatement')\n",
      " 3 (\n",
      "        http://rdf.webofcode.org/woc/DeclarationStatement\n",
      "        http://www.w3.org/2002/07/owl#NamedIndividual,\n",
      "   )\n",
      " 4 (\n",
      "        http://rdf.webofcode.org/woc/DeclarationStatement\n",
      "        http://rdf.webofcode.org/woc/BlockStatement,\n",
      "   )\n",
      " 5 (\n",
      "        http://rdf.webofcode.org/woc/ForEachStatement\n",
      "        http://www.w3.org/2002/07/owl#NamedIndividual,\n",
      "   )\n",
      " 6 ('http://rdf.webofcode.org/woc/ForEachStatement', 'http://rdf.webofcode.org/woc/BlockStatement')\n",
      " 7 ('http://rdf.webofcode.org/woc/TryStatement', 'http://www.w3.org/2002/07/owl#NamedIndividual')\n",
      " 8 ('http://rdf.webofcode.org/woc/TryStatement', 'http://rdf.webofcode.org/woc/BlockStatement')\n",
      " 9 ('http://rdf.webofcode.org/woc/WhileStatement', 'http://www.w3.org/2002/07/owl#NamedIndividual')\n",
      "10 ('http://rdf.webofcode.org/woc/WhileStatement', 'http://rdf.webofcode.org/woc/BlockStatement')\n",
      "11 (\n",
      "        http://www.w3.org/2002/07/owl#NamedIndividual\n",
      "        http://www.w3.org/2002/07/owl#NamedIndividual,\n",
      "   )\n",
      "12 ('http://www.w3.org/2002/07/owl#NamedIndividual', 'http://rdf.webofcode.org/woc/BlockStatement')\n"
     ]
    }
   ],
   "source": [
    "do_query_and_show_res(f\"\"\"\n",
    "prefix woc: <http://rdf.webofcode.org/woc/>\n",
    "\n",
    "SELECT DISTINCT ?st ?ot\n",
    "WHERE {{\n",
    "    ?s woc:hasBody ?o\n",
    "    ?s rdf:type ?st\n",
    "    ?o rdf:type ?ot\n",
    "}}\n",
    "\"\"\", 50);"
   ]
  },
  {
   "cell_type": "code",
   "execution_count": null,
   "id": "48cad08d",
   "metadata": {},
   "outputs": [],
   "source": []
  },
  {
   "cell_type": "code",
   "execution_count": null,
   "id": "1ac0aa30",
   "metadata": {},
   "outputs": [],
   "source": []
  },
  {
   "cell_type": "code",
   "execution_count": null,
   "id": "b246992c",
   "metadata": {},
   "outputs": [],
   "source": []
  }
 ],
 "metadata": {
  "kernelspec": {
   "display_name": "Python 3 (ipykernel)",
   "language": "python",
   "name": "python3"
  },
  "language_info": {
   "codemirror_mode": {
    "name": "ipython",
    "version": 3
   },
   "file_extension": ".py",
   "mimetype": "text/x-python",
   "name": "python",
   "nbconvert_exporter": "python",
   "pygments_lexer": "ipython3",
   "version": "3.9.13"
  }
 },
 "nbformat": 4,
 "nbformat_minor": 5
}
