{
 "cells": [
  {
   "cell_type": "markdown",
   "id": "82a030c2",
   "metadata": {},
   "source": [
    "### Initialization"
   ]
  },
  {
   "cell_type": "markdown",
   "id": "534cfb67",
   "metadata": {},
   "source": [
    "Import of standard and third party libraries."
   ]
  },
  {
   "cell_type": "code",
   "execution_count": 1,
   "id": "2daa8e5e",
   "metadata": {},
   "outputs": [
    {
     "name": "stderr",
     "output_type": "stream",
     "text": [
      "* Owlready2 * Warning: optimized Cython parser module 'owlready2_optimized' is not available, defaulting to slower Python implementation\n"
     ]
    }
   ],
   "source": [
    "from pathlib import Path\n",
    "import sys\n",
    "\n",
    "import astroid\n",
    "import owlready2 as owl"
   ]
  },
  {
   "cell_type": "markdown",
   "id": "88c45cf6",
   "metadata": {},
   "source": [
    "Adding `codeontology` to sys path for its import."
   ]
  },
  {
   "cell_type": "code",
   "execution_count": 2,
   "id": "f0c57a6c",
   "metadata": {},
   "outputs": [],
   "source": [
    "codeontology_path = Path(\"../../../../\").resolve()\n",
    "assert codeontology_path.exists()\n",
    "sys.path.insert(0, str(codeontology_path))"
   ]
  },
  {
   "cell_type": "markdown",
   "id": "4509bba0",
   "metadata": {},
   "source": [
    "Loading the ontology."
   ]
  },
  {
   "cell_type": "code",
   "execution_count": 3,
   "id": "dfe7871d",
   "metadata": {},
   "outputs": [],
   "source": [
    "ontology_path = Path(\"../../../ontology/codeontology.owl\").resolve()\n",
    "assert ontology_path.exists()\n",
    "ontology = owl.get_ontology(str(ontology_path)).load()\n",
    "ontology.base_iri = r\"http://rdf.webofcode.org/woc/\""
   ]
  },
  {
   "cell_type": "markdown",
   "id": "ab554358",
   "metadata": {},
   "source": [
    "### Code sample"
   ]
  },
  {
   "cell_type": "code",
   "execution_count": 4,
   "id": "5e960ca8",
   "metadata": {},
   "outputs": [],
   "source": [
    "ast = astroid.parse(\"\"\"\n",
    "a = b[1], c.attr = (0,0)\n",
    "a: int = 0\n",
    "a += 0\n",
    "\"\"\")"
   ]
  },
  {
   "cell_type": "markdown",
   "id": "722514b4",
   "metadata": {},
   "source": [
    "### Go on"
   ]
  },
  {
   "cell_type": "code",
   "execution_count": 41,
   "id": "50d30964",
   "metadata": {},
   "outputs": [],
   "source": [
    "ast = astroid.parse(\"\"\"\n",
    "a = [b[1], c.attr, d] = (0,0,0)\n",
    "e: int = 0\n",
    "e += 0\n",
    "\"\"\")"
   ]
  },
  {
   "cell_type": "code",
   "execution_count": 42,
   "id": "792a7ddd",
   "metadata": {},
   "outputs": [
    {
     "name": "stdout",
     "output_type": "stream",
     "text": [
      "Assign(targets=[ <AssignName.a l.2 at 0x25df14747f0>,\n",
      "         <List.list l.2 at 0x25df1474730>],\n",
      "       value=<Tuple.tuple l.2 at 0x25df14747c0>)\n"
     ]
    }
   ],
   "source": [
    "assign_node = ast.body[0]\n",
    "print(assign_node)"
   ]
  },
  {
   "cell_type": "code",
   "execution_count": 43,
   "id": "d1408be4",
   "metadata": {},
   "outputs": [
    {
     "name": "stdout",
     "output_type": "stream",
     "text": [
      "AnnAssign(simple=1,\n",
      "          target=<AssignName.e l.3 at 0x25df1474370>,\n",
      "          annotation=<Name.int l.3 at 0x25df1474760>,\n",
      "          value=<Const.int l.3 at 0x25df1474820>)\n"
     ]
    }
   ],
   "source": [
    "ann_assign_node = ast.body[1]\n",
    "print(ann_assign_node)"
   ]
  },
  {
   "cell_type": "code",
   "execution_count": 44,
   "id": "6a8cdb58",
   "metadata": {},
   "outputs": [
    {
     "name": "stdout",
     "output_type": "stream",
     "text": [
      "AugAssign(op='+=',\n",
      "          target=<AssignName.e l.4 at 0x25df1474790>,\n",
      "          value=<Const.int l.4 at 0x25df1474640>)\n"
     ]
    }
   ],
   "source": [
    "aug_assign_node = ast.body[2]\n",
    "print(aug_assign_node)"
   ]
  },
  {
   "cell_type": "code",
   "execution_count": 53,
   "id": "6a09781f",
   "metadata": {},
   "outputs": [
    {
     "name": "stdout",
     "output_type": "stream",
     "text": [
      "Subscript(ctx=<Context.Store: 2>,\n",
      "          value=<Name.b l.2 at 0x25df1474190>,\n",
      "          slice=<Const.int l.2 at 0x25df14742e0>)\n"
     ]
    }
   ],
   "source": [
    "print(\n",
    "    ast.body[0].targets[1].elts[0]\n",
    ")"
   ]
  },
  {
   "cell_type": "code",
   "execution_count": null,
   "id": "a8708c4b",
   "metadata": {},
   "outputs": [],
   "source": []
  },
  {
   "cell_type": "code",
   "execution_count": 54,
   "id": "dd9def23",
   "metadata": {},
   "outputs": [],
   "source": [
    "ast_2 = astroid.parse(\"\"\"\n",
    "def f(a, b, c):\n",
    "    pass\n",
    "\"\"\")"
   ]
  },
  {
   "cell_type": "code",
   "execution_count": 59,
   "id": "b5686246",
   "metadata": {},
   "outputs": [
    {
     "name": "stdout",
     "output_type": "stream",
     "text": [
      "AssignName.a(name='a')\n"
     ]
    }
   ],
   "source": [
    "print(\n",
    "    ast_2.body[0].args.args[0]\n",
    ")"
   ]
  },
  {
   "cell_type": "code",
   "execution_count": 60,
   "id": "e7f894f8",
   "metadata": {},
   "outputs": [
    {
     "data": {
      "text/plain": [
       "<FunctionDef.f l.2 at 0x25df4ecf7c0>"
      ]
     },
     "execution_count": 60,
     "metadata": {},
     "output_type": "execute_result"
    }
   ],
   "source": [
    "ast_2.body[0].args.args[0].scope()"
   ]
  },
  {
   "cell_type": "code",
   "execution_count": null,
   "id": "f3058269",
   "metadata": {},
   "outputs": [],
   "source": []
  }
 ],
 "metadata": {
  "kernelspec": {
   "display_name": "Python 3 (ipykernel)",
   "language": "python",
   "name": "python3"
  },
  "language_info": {
   "codemirror_mode": {
    "name": "ipython",
    "version": 3
   },
   "file_extension": ".py",
   "mimetype": "text/x-python",
   "name": "python",
   "nbconvert_exporter": "python",
   "pygments_lexer": "ipython3",
   "version": "3.9.7"
  }
 },
 "nbformat": 4,
 "nbformat_minor": 5
}
