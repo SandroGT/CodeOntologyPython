{
 "cells": [
  {
   "cell_type": "markdown",
   "id": "82a030c2",
   "metadata": {},
   "source": [
    "### Initialization"
   ]
  },
  {
   "cell_type": "markdown",
   "id": "534cfb67",
   "metadata": {},
   "source": [
    "Import of standard and third party libraries."
   ]
  },
  {
   "cell_type": "code",
   "execution_count": 1,
   "id": "2daa8e5e",
   "metadata": {},
   "outputs": [
    {
     "name": "stderr",
     "output_type": "stream",
     "text": [
      "* Owlready2 * Warning: optimized Cython parser module 'owlready2_optimized' is not available, defaulting to slower Python implementation\n"
     ]
    }
   ],
   "source": [
    "from pathlib import Path\n",
    "import sys\n",
    "\n",
    "import astroid\n",
    "import owlready2 as owl"
   ]
  },
  {
   "cell_type": "markdown",
   "id": "88c45cf6",
   "metadata": {},
   "source": [
    "Adding `codeontology` to sys path for its import."
   ]
  },
  {
   "cell_type": "code",
   "execution_count": 2,
   "id": "f0c57a6c",
   "metadata": {},
   "outputs": [],
   "source": [
    "codeontology_path = Path(\"../../../../\").resolve()\n",
    "assert codeontology_path.exists()\n",
    "sys.path.insert(0, str(codeontology_path))"
   ]
  },
  {
   "cell_type": "markdown",
   "id": "4509bba0",
   "metadata": {},
   "source": [
    "Loading the ontology."
   ]
  },
  {
   "cell_type": "code",
   "execution_count": 3,
   "id": "dfe7871d",
   "metadata": {},
   "outputs": [],
   "source": [
    "ontology_path = Path(\"../../../ontology/codeontology.owl\").resolve()\n",
    "assert ontology_path.exists()\n",
    "ontology = owl.get_ontology(str(ontology_path)).load()\n",
    "ontology.base_iri = r\"http://rdf.webofcode.org/woc/\""
   ]
  },
  {
   "cell_type": "markdown",
   "id": "ab554358",
   "metadata": {},
   "source": [
    "### Code sample"
   ]
  },
  {
   "cell_type": "code",
   "execution_count": 6,
   "id": "5e960ca8",
   "metadata": {},
   "outputs": [],
   "source": [
    "ast = astroid.parse(\"\"\"\n",
    "a = b[1], c.attr = (0,0)\n",
    "a: int = 0\n",
    "a += 0\n",
    "\"\"\")"
   ]
  },
  {
   "cell_type": "markdown",
   "id": "722514b4",
   "metadata": {},
   "source": [
    "### Go on"
   ]
  },
  {
   "cell_type": "code",
   "execution_count": 14,
   "id": "50d30964",
   "metadata": {},
   "outputs": [],
   "source": [
    "ast = astroid.parse(\"\"\"\n",
    "a = b[1], c.attr = (0,0)\n",
    "a: int = 0\n",
    "a += 0\n",
    "\"\"\")"
   ]
  },
  {
   "cell_type": "code",
   "execution_count": 15,
   "id": "792a7ddd",
   "metadata": {},
   "outputs": [
    {
     "name": "stdout",
     "output_type": "stream",
     "text": [
      "Assign(targets=[ <AssignName.a l.2 at 0x1f2a1603160>,\n",
      "         <Tuple.tuple l.2 at 0x1f2a16030d0>],\n",
      "       value=<Tuple.tuple l.2 at 0x1f2a1603130>)\n"
     ]
    }
   ],
   "source": [
    "assign_node = ast.body[0]\n",
    "print(assign_node)"
   ]
  },
  {
   "cell_type": "code",
   "execution_count": 10,
   "id": "d1408be4",
   "metadata": {},
   "outputs": [
    {
     "name": "stdout",
     "output_type": "stream",
     "text": [
      "AnnAssign(simple=1,\n",
      "          target=<AssignName.a l.3 at 0x1f2a14eb790>,\n",
      "          annotation=<Name.int l.3 at 0x1f2a15db700>,\n",
      "          value=<Const.int l.3 at 0x1f2a15db730>)\n"
     ]
    }
   ],
   "source": [
    "ann_assign_node = ast.body[1]\n",
    "print(ann_assign_node)"
   ]
  },
  {
   "cell_type": "code",
   "execution_count": 11,
   "id": "6a8cdb58",
   "metadata": {},
   "outputs": [
    {
     "name": "stdout",
     "output_type": "stream",
     "text": [
      "AugAssign(op='+=',\n",
      "          target=<AssignName.a l.4 at 0x1f2a15db790>,\n",
      "          value=<Const.int l.4 at 0x1f2a15db7c0>)\n"
     ]
    }
   ],
   "source": [
    "aug_assign_node = ast.body[2]\n",
    "print(aug_assign_node)"
   ]
  },
  {
   "cell_type": "code",
   "execution_count": null,
   "id": "5de8baff",
   "metadata": {},
   "outputs": [],
   "source": []
  },
  {
   "cell_type": "code",
   "execution_count": 28,
   "id": "7d91e739",
   "metadata": {},
   "outputs": [],
   "source": [
    "n = astroid.extract_node(\"\"\"\n",
    "def f():\n",
    "    '''Doc'''\n",
    "    pass\n",
    "\"\"\")"
   ]
  },
  {
   "cell_type": "code",
   "execution_count": 29,
   "id": "3ee967b2",
   "metadata": {},
   "outputs": [
    {
     "data": {
      "text/plain": [
       "<Const.str l.3 at 0x1bd341f22b0>"
      ]
     },
     "execution_count": 29,
     "metadata": {},
     "output_type": "execute_result"
    }
   ],
   "source": [
    "n.doc_node"
   ]
  },
  {
   "cell_type": "code",
   "execution_count": null,
   "id": "0af7f9d1",
   "metadata": {},
   "outputs": [],
   "source": []
  },
  {
   "cell_type": "code",
   "execution_count": null,
   "id": "324558a8",
   "metadata": {},
   "outputs": [],
   "source": []
  },
  {
   "cell_type": "code",
   "execution_count": 15,
   "id": "d2d621ff",
   "metadata": {},
   "outputs": [],
   "source": [
    "from codeontology.rdfization.python3.extract.transformer import Transformer"
   ]
  },
  {
   "cell_type": "code",
   "execution_count": 16,
   "id": "5e84da69",
   "metadata": {},
   "outputs": [],
   "source": [
    "node = astroid.parse(\"\"\"\n",
    "var = 1\n",
    "var = f(lambda x: x+1, 5+3) * g(var)\n",
    "\"\"\")"
   ]
  },
  {
   "cell_type": "code",
   "execution_count": 17,
   "id": "bb3260b8",
   "metadata": {},
   "outputs": [],
   "source": [
    "Transformer.visit_to_transform(node)"
   ]
  },
  {
   "cell_type": "code",
   "execution_count": 19,
   "id": "65e15928",
   "metadata": {},
   "outputs": [],
   "source": [
    "from codeontology.rdfization.python3.extract import extractor\n",
    "from codeontology.rdfization.python3.extract.extractor import Extractor"
   ]
  },
  {
   "cell_type": "code",
   "execution_count": 20,
   "id": "cb5ebee7",
   "metadata": {},
   "outputs": [
    {
     "data": {
      "text/plain": [
       "[<Assign l.2 at 0x1bd32d96b50>, <Assign l.3 at 0x1bd32d9e1f0>]"
      ]
     },
     "execution_count": 20,
     "metadata": {},
     "output_type": "execute_result"
    }
   ],
   "source": [
    "node.body"
   ]
  },
  {
   "cell_type": "code",
   "execution_count": 21,
   "id": "d9337d97",
   "metadata": {},
   "outputs": [
    {
     "ename": "AttributeError",
     "evalue": "'IsSubExpressionOf' property is not defined.",
     "output_type": "error",
     "traceback": [
      "\u001b[1;31m---------------------------------------------------------------------------\u001b[0m",
      "\u001b[1;31mAttributeError\u001b[0m                            Traceback (most recent call last)",
      "Cell \u001b[1;32mIn[21], line 1\u001b[0m\n\u001b[1;32m----> 1\u001b[0m \u001b[43mextractor\u001b[49m\u001b[38;5;241;43m.\u001b[39;49m\u001b[43mextract_expression\u001b[49m\u001b[43m(\u001b[49m\u001b[43mnode\u001b[49m\u001b[38;5;241;43m.\u001b[39;49m\u001b[43mbody\u001b[49m\u001b[43m[\u001b[49m\u001b[38;5;241;43m0\u001b[39;49m\u001b[43m]\u001b[49m\u001b[43m)\u001b[49m\n",
      "File \u001b[1;32mD:\\Coding\\PyCharm\\CodeOntologyPython\\codeontology\\rdfization\\python3\\extract\\extractor.py:750\u001b[0m, in \u001b[0;36mextract_expression\u001b[1;34m(expression_node)\u001b[0m\n\u001b[0;32m    747\u001b[0m     extract_expression(assignment_node\u001b[38;5;241m.\u001b[39mvalue)\n\u001b[0;32m    749\u001b[0m     assignment_node\u001b[38;5;241m.\u001b[39mexpr_individual\u001b[38;5;241m.\u001b[39mhasSubExpression\u001b[38;5;241m.\u001b[39mappend(assignment_node\u001b[38;5;241m.\u001b[39mvalue\u001b[38;5;241m.\u001b[39mexpr_individual)\n\u001b[1;32m--> 750\u001b[0m     \u001b[38;5;28;01massert\u001b[39;00m assignment_node\u001b[38;5;241m.\u001b[39mexpr_individual \u001b[38;5;241m==\u001b[39m \u001b[43massignment_node\u001b[49m\u001b[38;5;241;43m.\u001b[39;49m\u001b[43mvalue\u001b[49m\u001b[38;5;241;43m.\u001b[39;49m\u001b[43mexpr_individual\u001b[49m\u001b[38;5;241;43m.\u001b[39;49m\u001b[43mIsSubExpressionOf\u001b[49m\n\u001b[0;32m    752\u001b[0m \u001b[38;5;28;01melif\u001b[39;00m \u001b[38;5;28mtype\u001b[39m(expression_node) \u001b[38;5;129;01mis\u001b[39;00m astroid\u001b[38;5;241m.\u001b[39mCall:\n\u001b[0;32m    753\u001b[0m     \u001b[38;5;66;03m# `Executable Invocation Expression` or `Lambda Invocation Expression`\u001b[39;00m\n\u001b[0;32m    754\u001b[0m     \u001b[38;5;66;03m# TODO Improve with proper expression creation\u001b[39;00m\n\u001b[0;32m    755\u001b[0m     OntologyIndividuals\u001b[38;5;241m.\u001b[39minit_executable_invocation_expression(expression_node)\n",
      "File \u001b[1;32mD:\\Coding\\PyCharm\\CodeOntologyPython\\venv\\lib\\site-packages\\owlready2\\individual.py:245\u001b[0m, in \u001b[0;36mThing.__getattr__\u001b[1;34m(self, attr)\u001b[0m\n\u001b[0;32m    243\u001b[0m \u001b[38;5;28;01mif\u001b[39;00m \u001b[38;5;129;01mnot\u001b[39;00m Prop:\n\u001b[0;32m    244\u001b[0m   \u001b[38;5;28;01mif\u001b[39;00m attr \u001b[38;5;241m==\u001b[39m \u001b[38;5;124m\"\u001b[39m\u001b[38;5;124mequivalent_to\u001b[39m\u001b[38;5;124m\"\u001b[39m: \u001b[38;5;28;01mreturn\u001b[39;00m \u001b[38;5;28mself\u001b[39m\u001b[38;5;241m.\u001b[39mget_equivalent_to() \u001b[38;5;66;03m# Needed\u001b[39;00m\n\u001b[1;32m--> 245\u001b[0m   \u001b[38;5;28;01mraise\u001b[39;00m \u001b[38;5;167;01mAttributeError\u001b[39;00m(\u001b[38;5;124m\"\u001b[39m\u001b[38;5;124m'\u001b[39m\u001b[38;5;132;01m%s\u001b[39;00m\u001b[38;5;124m'\u001b[39m\u001b[38;5;124m property is not defined.\u001b[39m\u001b[38;5;124m\"\u001b[39m \u001b[38;5;241m%\u001b[39m attr)\n\u001b[0;32m    246\u001b[0m \u001b[38;5;28;01mif\u001b[39;00m Prop\u001b[38;5;241m.\u001b[39mis_functional_for(\u001b[38;5;28mself\u001b[39m\u001b[38;5;241m.\u001b[39m\u001b[38;5;18m__class__\u001b[39m): \u001b[38;5;28mself\u001b[39m\u001b[38;5;241m.\u001b[39m\u001b[38;5;18m__dict__\u001b[39m[attr] \u001b[38;5;241m=\u001b[39m r \u001b[38;5;241m=\u001b[39m Prop\u001b[38;5;241m.\u001b[39m_get_value_for_individual (\u001b[38;5;28mself\u001b[39m)\n\u001b[0;32m    247\u001b[0m \u001b[38;5;28;01melse\u001b[39;00m:                                      \u001b[38;5;28mself\u001b[39m\u001b[38;5;241m.\u001b[39m\u001b[38;5;18m__dict__\u001b[39m[attr] \u001b[38;5;241m=\u001b[39m r \u001b[38;5;241m=\u001b[39m Prop\u001b[38;5;241m.\u001b[39m_get_values_for_individual(\u001b[38;5;28mself\u001b[39m)\n",
      "\u001b[1;31mAttributeError\u001b[0m: 'IsSubExpressionOf' property is not defined."
     ]
    }
   ],
   "source": [
    "extractor.extract_expression(node.body[0])"
   ]
  },
  {
   "cell_type": "code",
   "execution_count": null,
   "id": "500b6af1",
   "metadata": {},
   "outputs": [],
   "source": []
  },
  {
   "cell_type": "code",
   "execution_count": 22,
   "id": "a497dbc6",
   "metadata": {},
   "outputs": [],
   "source": [
    "stmt1 = ontology.Statement()\n",
    "stmt2 = ontology.Statement()"
   ]
  },
  {
   "cell_type": "code",
   "execution_count": 23,
   "id": "887515b3",
   "metadata": {},
   "outputs": [],
   "source": [
    "stmt2.hasPreviousStatement = stmt1"
   ]
  },
  {
   "cell_type": "code",
   "execution_count": 26,
   "id": "974698e0",
   "metadata": {},
   "outputs": [
    {
     "data": {
      "text/plain": [
       "True"
      ]
     },
     "execution_count": 26,
     "metadata": {},
     "output_type": "execute_result"
    }
   ],
   "source": [
    "stmt1.hasNextStatement is stmt2"
   ]
  },
  {
   "cell_type": "code",
   "execution_count": null,
   "id": "dd986322",
   "metadata": {},
   "outputs": [],
   "source": []
  }
 ],
 "metadata": {
  "kernelspec": {
   "display_name": "Python 3 (ipykernel)",
   "language": "python",
   "name": "python3"
  },
  "language_info": {
   "codemirror_mode": {
    "name": "ipython",
    "version": 3
   },
   "file_extension": ".py",
   "mimetype": "text/x-python",
   "name": "python",
   "nbconvert_exporter": "python",
   "pygments_lexer": "ipython3",
   "version": "3.9.7"
  }
 },
 "nbformat": 4,
 "nbformat_minor": 5
}
