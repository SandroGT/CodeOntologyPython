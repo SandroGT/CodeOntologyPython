{
 "cells": [
  {
   "cell_type": "markdown",
   "id": "82a030c2",
   "metadata": {},
   "source": [
    "### Initialization"
   ]
  },
  {
   "cell_type": "markdown",
   "id": "534cfb67",
   "metadata": {},
   "source": [
    "Import of standard and third party libraries."
   ]
  },
  {
   "cell_type": "code",
   "execution_count": 1,
   "id": "2daa8e5e",
   "metadata": {},
   "outputs": [
    {
     "name": "stderr",
     "output_type": "stream",
     "text": [
      "* Owlready2 * Warning: optimized Cython parser module 'owlready2_optimized' is not available, defaulting to slower Python implementation\n"
     ]
    }
   ],
   "source": [
    "from pathlib import Path\n",
    "import sys\n",
    "\n",
    "import astroid\n",
    "import owlready2 as owl"
   ]
  },
  {
   "cell_type": "markdown",
   "id": "88c45cf6",
   "metadata": {},
   "source": [
    "Adding `codeontology` to sys path for its import."
   ]
  },
  {
   "cell_type": "code",
   "execution_count": 2,
   "id": "f0c57a6c",
   "metadata": {},
   "outputs": [],
   "source": [
    "codeontology_path = Path(\"../../../../\").resolve()\n",
    "assert codeontology_path.exists()\n",
    "sys.path.insert(0, str(codeontology_path))"
   ]
  },
  {
   "cell_type": "markdown",
   "id": "4509bba0",
   "metadata": {},
   "source": [
    "Loading the ontology."
   ]
  },
  {
   "cell_type": "code",
   "execution_count": 3,
   "id": "dfe7871d",
   "metadata": {},
   "outputs": [],
   "source": [
    "ontology_path = Path(\"../../../ontology/codeontology.owl\").resolve()\n",
    "assert ontology_path.exists()\n",
    "ontology = owl.get_ontology(str(ontology_path)).load()\n",
    "ontology.base_iri = r\"http://rdf.webofcode.org/woc/\""
   ]
  },
  {
   "cell_type": "markdown",
   "id": "ab554358",
   "metadata": {},
   "source": [
    "### Code sample"
   ]
  },
  {
   "cell_type": "code",
   "execution_count": 4,
   "id": "5e960ca8",
   "metadata": {},
   "outputs": [],
   "source": [
    "node = astroid.extract_node(\"\"\"\n",
    "var = 0\n",
    "\"\"\")"
   ]
  },
  {
   "cell_type": "markdown",
   "id": "722514b4",
   "metadata": {},
   "source": [
    "### Go on"
   ]
  },
  {
   "cell_type": "code",
   "execution_count": null,
   "id": "50d30964",
   "metadata": {},
   "outputs": [],
   "source": []
  }
 ],
 "metadata": {
  "kernelspec": {
   "display_name": "Python 3 (ipykernel)",
   "language": "python",
   "name": "python3"
  },
  "language_info": {
   "codemirror_mode": {
    "name": "ipython",
    "version": 3
   },
   "file_extension": ".py",
   "mimetype": "text/x-python",
   "name": "python",
   "nbconvert_exporter": "python",
   "pygments_lexer": "ipython3",
   "version": "3.9.7"
  }
 },
 "nbformat": 4,
 "nbformat_minor": 5
}
