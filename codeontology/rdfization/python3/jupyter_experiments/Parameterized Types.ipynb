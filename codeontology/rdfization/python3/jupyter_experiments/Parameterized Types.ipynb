{
 "cells": [
  {
   "cell_type": "markdown",
   "id": "29a75527",
   "metadata": {},
   "source": [
    "### Initialization"
   ]
  },
  {
   "cell_type": "markdown",
   "id": "8c126c9f",
   "metadata": {},
   "source": [
    "Import of standard and third party libraries."
   ]
  },
  {
   "cell_type": "code",
   "execution_count": 1,
   "id": "66fb6edd",
   "metadata": {},
   "outputs": [
    {
     "name": "stderr",
     "output_type": "stream",
     "text": [
      "* Owlready2 * Warning: optimized Cython parser module 'owlready2_optimized' is not available, defaulting to slower Python implementation\n"
     ]
    }
   ],
   "source": [
    "from pathlib import Path\n",
    "import sys\n",
    "\n",
    "import astroid\n",
    "import owlready2 as owl"
   ]
  },
  {
   "cell_type": "markdown",
   "id": "814f1d5d",
   "metadata": {},
   "source": [
    "Adding `codeontology` to sys path for its import."
   ]
  },
  {
   "cell_type": "code",
   "execution_count": 2,
   "id": "b569415d",
   "metadata": {},
   "outputs": [],
   "source": [
    "codeontology_path = Path(\"../../../../\").resolve()\n",
    "assert codeontology_path.exists()\n",
    "sys.path.insert(0, str(codeontology_path))"
   ]
  },
  {
   "cell_type": "markdown",
   "id": "cd1629b5",
   "metadata": {},
   "source": [
    "Loading the ontology."
   ]
  },
  {
   "cell_type": "code",
   "execution_count": 3,
   "id": "0a2934f8",
   "metadata": {},
   "outputs": [],
   "source": [
    "ontology_path = Path(\"../../../ontology/codeontology.owl\").resolve()\n",
    "assert ontology_path.exists()\n",
    "ontology = owl.get_ontology(str(ontology_path)).load()\n",
    "ontology.base_iri = r\"http://rdf.webofcode.org/woc/\""
   ]
  },
  {
   "cell_type": "markdown",
   "id": "8e9fac2d",
   "metadata": {},
   "source": [
    "### Code sample"
   ]
  },
  {
   "cell_type": "code",
   "execution_count": 4,
   "id": "b7b2e71e",
   "metadata": {},
   "outputs": [],
   "source": [
    "node = astroid.extract_node(\"\"\"\n",
    "var: dict[str, tuple[str, unknown] | None] = {'': None}\n",
    "\"\"\")\n",
    "ann_node = node.annotation"
   ]
  },
  {
   "cell_type": "markdown",
   "id": "4f9374d5",
   "metadata": {},
   "source": [
    "### Obtaining a structured annotation"
   ]
  },
  {
   "cell_type": "markdown",
   "id": "67a3458c",
   "metadata": {},
   "source": [
    "We start calling the annotation solver to obtain, from an annotation, the node references to the classes in a structured format."
   ]
  },
  {
   "cell_type": "code",
   "execution_count": 5,
   "id": "b54f521e",
   "metadata": {},
   "outputs": [],
   "source": [
    "from codeontology.rdfization.python3.extract.transformer.tracking import resolve_annotation\n",
    "structured_ann = resolve_annotation(ann_node)"
   ]
  },
  {
   "cell_type": "code",
   "execution_count": 6,
   "id": "cf5e074c",
   "metadata": {},
   "outputs": [
    {
     "data": {
      "text/plain": [
       "(<ClassDef.dict l.0 at 0x13922991880>,\n",
       " <ClassDef.str l.0 at 0x13922bab670>,\n",
       " [(<ClassDef.tuple l.0 at 0x13922c0ae80>,\n",
       "   <ClassDef.str l.0 at 0x13922bab670>,\n",
       "   None),\n",
       "  <ClassDef.NoneType l.0 at 0x13922ca7250>])"
      ]
     },
     "execution_count": 6,
     "metadata": {},
     "output_type": "execute_result"
    }
   ],
   "source": [
    "structured_ann"
   ]
  },
  {
   "cell_type": "markdown",
   "id": "b414ae39",
   "metadata": {},
   "source": [
    "We read this as a `dict` parameterized by: `str`; a `tuple` (couple) of `str` and `unknown`, or `None`. Since `unknown` is actually an unknown name, the structured annotation has a `None` object instead of a class reference on its position."
   ]
  },
  {
   "cell_type": "markdown",
   "id": "b9bfdc6c",
   "metadata": {},
   "source": [
    "### Creating `Parameterized Type`s individuals"
   ]
  },
  {
   "cell_type": "markdown",
   "id": "b2bab126",
   "metadata": {},
   "source": [
    "Here we have, according to the ontology, a type `dict`, that is a `Class` (primitive types, the so called built-in types, are actually classes). Since this `dict` is parameterized, it will be represented with a `Parameterized Type` individual, that will be linked to the original `Class` (`dict`) by the `has generic type` property.\n",
    "\n",
    "Every actual parameterization (`str` and `tuple[str, unknown] | None`) will be represented by `Type Argument`s individual, that will be linked to the `Parameterized Type` owner (`dict`) by the `is actual type argument of` property, and to the type they represent (`str` and `tuple[str, unknown] | None`) by the `has argument type` property. In the case of `tuple[str, unknown] | None` the property will link to `tuple[str, unknown]` and `None` separately, since they are two ammissable different types (thus, the types are not assumed to be univocal in the ontology).\n",
    "\n",
    "The need to use an intermediary individual (`Type Argument`) instead of linking directly the `dict` to `str` and `tuple[str, unknown] | None` is given by the fact that we also have to store the information about the position of the type in the parameterization: we first have `str` and then `tuple[str, unknown] | None`, they are not interchangeable. The `Type Argument` is the holder of this information by the `has type argument position` property.\n",
    "\n",
    "Last thing to say is that a `Type Argument` can be mirroring a `Class`, like for `str`, but also recursively a `Parameterized Type`, like for `tuple[str, unknown]`."
   ]
  },
  {
   "cell_type": "code",
   "execution_count": 7,
   "id": "89399094",
   "metadata": {},
   "outputs": [],
   "source": [
    "from codeontology.rdfization.python3.extract.extractor import extract_structured_type\n",
    "param_type = extract_structured_type(structured_ann)"
   ]
  },
  {
   "cell_type": "markdown",
   "id": "fd16d21c",
   "metadata": {},
   "source": [
    "Lets see what has been extracted! The `Parameterized Type` is:"
   ]
  },
  {
   "cell_type": "code",
   "execution_count": 8,
   "id": "b9e29013",
   "metadata": {},
   "outputs": [
    {
     "name": "stdout",
     "output_type": "stream",
     "text": [
      "http://rdf.webofcode.org/woc/parameterizedtype2 (type ParameterizedType)\n",
      "Has generic type: dict\n"
     ]
    }
   ],
   "source": [
    "print(f\"{param_type.iri} (type {type(param_type).__name__})\")\n",
    "print(f\"Has generic type: {param_type.hasGenericType.hasSimpleName}\")"
   ]
  },
  {
   "cell_type": "markdown",
   "id": "f35e846c",
   "metadata": {},
   "source": [
    "Its `Type Argument`s are:"
   ]
  },
  {
   "cell_type": "code",
   "execution_count": 9,
   "id": "69f72ba7",
   "metadata": {},
   "outputs": [
    {
     "name": "stdout",
     "output_type": "stream",
     "text": [
      "\n",
      "TypeArgument #0\n",
      " Actual type argument of: http://rdf.webofcode.org/woc/parameterizedtype2\n",
      " Has argument type: ['str']\n",
      "\n",
      "TypeArgument #1\n",
      " Actual type argument of: http://rdf.webofcode.org/woc/parameterizedtype2\n",
      " Has argument type: ['http://rdf.webofcode.org/woc/parameterizedtype1', 'NoneType']\n"
     ]
    }
   ],
   "source": [
    "for i, type_arg in enumerate(param_type.hasActualTypeArgument):\n",
    "    print()\n",
    "    print(f\"TypeArgument #{i}\")\n",
    "    print(f\" Actual type argument of: {type_arg.isActualTypeArgumentOf.iri}\")\n",
    "    print(f\" Has argument type: {[t.hasSimpleName if type(t) is ontology.Class else t.iri for t in type_arg.hasArgumentType]}\")"
   ]
  },
  {
   "cell_type": "markdown",
   "id": "18b4b19b",
   "metadata": {},
   "source": [
    "Lets check the `Parameterized Type` behind the second `Type Argument`:"
   ]
  },
  {
   "cell_type": "code",
   "execution_count": 10,
   "id": "c4f5f5a7",
   "metadata": {},
   "outputs": [
    {
     "name": "stdout",
     "output_type": "stream",
     "text": [
      "http://rdf.webofcode.org/woc/parameterizedtype1 (type ParameterizedType)\n",
      "Has generic type: tuple\n",
      "\n",
      "TypeArgument #0\n",
      " Actual type argument of: http://rdf.webofcode.org/woc/parameterizedtype1\n",
      " Has argument type: ['str']\n",
      "\n",
      "TypeArgument #1\n",
      " Actual type argument of: http://rdf.webofcode.org/woc/parameterizedtype1\n",
      " Has argument type: []\n"
     ]
    }
   ],
   "source": [
    "param_type_nested = param_type.hasActualTypeArgument[1].hasArgumentType[0]\n",
    "\n",
    "print(f\"{param_type_nested.iri} (type {type(param_type_nested).__name__})\")\n",
    "print(f\"Has generic type: {param_type_nested.hasGenericType.hasSimpleName}\")\n",
    "\n",
    "for i, type_arg in enumerate(param_type_nested.hasActualTypeArgument):\n",
    "    print()\n",
    "    print(f\"TypeArgument #{i}\")\n",
    "    print(f\" Actual type argument of: {type_arg.isActualTypeArgumentOf.iri}\")\n",
    "    print(f\" Has argument type: {[t.hasSimpleName if type(t) is ontology.Class else t.iri for t in type_arg.hasArgumentType]}\")"
   ]
  },
  {
   "cell_type": "markdown",
   "id": "041d20a6",
   "metadata": {},
   "source": [
    "We can see how the `Type Argument` for the `unknown` type has been created, but there is no link to the type individual itself because we were unable to resolve the AST reference for it (actually, it was impossible, since it does not exist statically!)."
   ]
  },
  {
   "cell_type": "code",
   "execution_count": null,
   "id": "27e385fb",
   "metadata": {},
   "outputs": [],
   "source": []
  }
 ],
 "metadata": {
  "kernelspec": {
   "display_name": "Python 3 (ipykernel)",
   "language": "python",
   "name": "python3"
  },
  "language_info": {
   "codemirror_mode": {
    "name": "ipython",
    "version": 3
   },
   "file_extension": ".py",
   "mimetype": "text/x-python",
   "name": "python",
   "nbconvert_exporter": "python",
   "pygments_lexer": "ipython3",
   "version": "3.9.7"
  }
 },
 "nbformat": 4,
 "nbformat_minor": 5
}
